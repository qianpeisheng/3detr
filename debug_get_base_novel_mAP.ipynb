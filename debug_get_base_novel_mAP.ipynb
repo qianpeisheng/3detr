{
 "cells": [
  {
   "cell_type": "code",
   "execution_count": 6,
   "metadata": {},
   "outputs": [],
   "source": [
    "# import ordered dict\n",
    "from collections import OrderedDict"
   ]
  },
  {
   "cell_type": "code",
   "execution_count": 7,
   "metadata": {},
   "outputs": [],
   "source": [
    "metrics_25 = OrderedDict([('bathtub Average Precision', 0.9194261430079003), ('bed Average Precision', 0.8252042367383384), ('bookshelf Average Precision', 0.6022974861074865), ('cabinet Average Precision', 0.4519609029789935), ('chair Average Precision', 0.8844992028321028), ('counter Average Precision', 0.5884290222876075), ('curtain Average Precision', 0.47124120033178285), ('desk Average Precision', 0.7030099886078018), ('door Average Precision', 0.4799783138867437), ('garbagebin Average Precision', 0.4839471968448011), ('picture Average Precision', 0.10681637250636496), ('refrigerator Average Precision', 0.5806913767251617), ('showercurtrain Average Precision', 0.5618159745419284), ('sink Average Precision', 0.6751421201493802), ('sofa Average Precision', 0.8875880185900328), ('table Average Precision', 0.6525703858787784), ('toilet Average Precision', 0.958531465245815), ('window Average Precision', 0.38395175981962015), ('mAP', 0.62317234), ('bathtub Recall', 0.9354838709677419), ('bed Recall', 0.9135802469135802), ('bookshelf Recall', 0.8571428571428571), ('cabinet Recall', 0.706989247311828), ('chair Recall', 0.9130116959064327), ('counter Recall', 0.8461538461538461), ('curtain Recall', 0.746268656716418), ('desk Recall', 0.9212598425196851), ('door Recall', 0.6209850107066381), ('garbagebin Recall', 0.720754716981132), ('picture Recall', 0.15765765765765766), ('refrigerator Recall', 0.9122807017543859), ('showercurtrain Recall', 0.8214285714285714), ('sink Recall', 0.7551020408163265), ('sofa Recall', 0.979381443298969), ('table Recall', 0.8085714285714286), ('toilet Recall', 0.9827586206896551), ('window Recall', 0.6063829787234043), ('AR', 0.7891774130144754)])\n"
   ]
  },
  {
   "cell_type": "code",
   "execution_count": 8,
   "metadata": {},
   "outputs": [],
   "source": [
    "args_num_base = 9\n",
    "metrics_25_base = {k: metrics_25[k] for k in list(metrics_25)[:args_num_base]}"
   ]
  },
  {
   "cell_type": "code",
   "execution_count": 10,
   "metadata": {},
   "outputs": [
    {
     "name": "stdout",
     "output_type": "stream",
     "text": [
      "0.6584496107531953\n"
     ]
    }
   ],
   "source": [
    "# average values in metrics_25_base is a dict with 9 keys\n",
    "# each key has a value of a float\n",
    "average_ap_base_25 = sum(metrics_25_base.values()) / len(metrics_25_base)\n",
    "print('Base mAP 25: ', average_ap_base_25)\n",
    "\n",
    "args_num_novel = 18 - args_num_base\n",
    "metrics_25_novel = {k: metrics_25[k] for k in list(metrics_25)[args_num_base:18]}\n",
    "average_ap_novel_25 = sum(metrics_25_novel.values()) / len(metrics_25_novel)\n",
    "print('novel mAP 25: ',average_ap_novel_25)\n"
   ]
  },
  {
   "cell_type": "code",
   "execution_count": 13,
   "metadata": {},
   "outputs": [
    {
     "name": "stdout",
     "output_type": "stream",
     "text": [
      "novel mAP 25:  0.5878949633668759\n"
     ]
    }
   ],
   "source": []
  },
  {
   "cell_type": "code",
   "execution_count": 20,
   "metadata": {},
   "outputs": [
    {
     "name": "stdout",
     "output_type": "stream",
     "text": [
      "64.20666666666666\n",
      "51.605555555555554\n"
     ]
    }
   ],
   "source": [
    "str_ = \"\"\"bathtub Average Precision: 86.76\n",
    "bed Average Precision: 82.90\n",
    "bookshelf Average Precision: 43.67\n",
    "cabinet Average Precision: 47.82\n",
    "chair Average Precision: 83.14\n",
    "counter Average Precision: 63.98\n",
    "curtain Average Precision: 54.12\n",
    "desk Average Precision: 73.18\n",
    "door Average Precision: 42.29\n",
    "garbagebin Average Precision: 35.08\n",
    "picture Average Precision: 4.30\n",
    "refrigerator Average Precision: 44.03\n",
    "showercurtrain Average Precision: 58.10\n",
    "sink Average Precision: 45.42\n",
    "sofa Average Precision: 90.28\n",
    "table Average Precision: 62.40\n",
    "toilet Average Precision: 92.44\n",
    "window Average Precision: 32.40\"\"\"\n",
    "\n",
    "# select only the numbers from the string, the numbers are like xx.xx or x.xx\n",
    "# the numbers are strings\n",
    "numbers = [float(s) for s in str_.split() if s.replace('.', '', 1).isdigit()]\n",
    "first_n = 9\n",
    "# print average of first_n numbers and average of the rest\n",
    "print(sum(numbers[:first_n]) / first_n)\n",
    "print(sum(numbers[first_n:]) / (len(numbers) - first_n))"
   ]
  },
  {
   "cell_type": "code",
   "execution_count": 19,
   "metadata": {},
   "outputs": [
    {
     "data": {
      "text/plain": [
       "[86.76,\n",
       " 82.9,\n",
       " 43.67,\n",
       " 47.82,\n",
       " 83.14,\n",
       " 63.98,\n",
       " 54.12,\n",
       " 73.18,\n",
       " 42.29,\n",
       " 35.08,\n",
       " 4.3,\n",
       " 44.03,\n",
       " 58.1,\n",
       " 45.42,\n",
       " 90.28,\n",
       " 62.4,\n",
       " 92.44,\n",
       " 32.4]"
      ]
     },
     "execution_count": 19,
     "metadata": {},
     "output_type": "execute_result"
    }
   ],
   "source": [
    "str_ = \"\"\"bathtub Average Precision: 59.16\n",
    "bed Average Precision: 74.89\n",
    "bookshelf Average Precision: 28.71\n",
    "cabinet Average Precision: 9.69\n",
    "chair Average Precision: 46.72\n",
    "counter Average Precision: 9.63\n",
    "curtain Average Precision: 6.26\n",
    "desk Average Precision: 37.19\n",
    "door Average Precision: 11.62\n",
    "garbagebin Average Precision: 10.81\n",
    "picture Average Precision: 0.44\n",
    "refrigerator Average Precision: 25.91\n",
    "showercurtrain Average Precision: 8.76\n",
    "sink Average Precision: 12.96\n",
    "sofa Average Precision: 65.02\n",
    "table Average Precision: 41.69\n",
    "toilet Average Precision: 70.83\n",
    "window Average Precision: 8.63\"\"\"\n",
    "\n",
    "# select only the numbers from the string, the numbers are like xx.xx or x.xx\n",
    "# the numbers are strings\n",
    "numbers = [float(s) for s in str_.split() if s.replace('.', '', 1).isdigit()]\n",
    "first_n = 9\n",
    "# print average of first_n numbers and average of the rest\n",
    "print(sum(numbers[:first_n]) / first_n)\n",
    "print(sum(numbers[first_n:]) / (len(numbers) - first_n))"
   ]
  },
  {
   "cell_type": "code",
   "execution_count": null,
   "metadata": {},
   "outputs": [],
   "source": []
  }
 ],
 "metadata": {
  "kernelspec": {
   "display_name": "Python 3",
   "language": "python",
   "name": "python3"
  },
  "language_info": {
   "codemirror_mode": {
    "name": "ipython",
    "version": 3
   },
   "file_extension": ".py",
   "mimetype": "text/x-python",
   "name": "python",
   "nbconvert_exporter": "python",
   "pygments_lexer": "ipython3",
   "version": "3.8.10"
  }
 },
 "nbformat": 4,
 "nbformat_minor": 2
}
