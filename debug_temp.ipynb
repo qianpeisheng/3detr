{
 "cells": [
  {
   "cell_type": "code",
   "execution_count": 1,
   "metadata": {},
   "outputs": [],
   "source": [
    "# assert 3 >= 1 + 3\n",
    "import torch"
   ]
  },
  {
   "cell_type": "code",
   "execution_count": 3,
   "metadata": {},
   "outputs": [],
   "source": [
    "ts = torch.tensor([1, 2, 3]).unsqueeze(0).cuda()"
   ]
  },
  {
   "cell_type": "code",
   "execution_count": 4,
   "metadata": {},
   "outputs": [
    {
     "data": {
      "text/plain": [
       "tensor([[1, 2, 3]], device='cuda:0')"
      ]
     },
     "execution_count": 4,
     "metadata": {},
     "output_type": "execute_result"
    }
   ],
   "source": [
    "ts"
   ]
  },
  {
   "cell_type": "code",
   "execution_count": 23,
   "metadata": {},
   "outputs": [],
   "source": [
    "from functools import partial\n",
    "import os\n",
    "import sys\n",
    "# ROOT_DIR = '../'\n",
    "# sys.path.append(os.path.join(ROOT_DIR, 'models'))\n",
    "from models.helpers import GenericMLP\n",
    "\n",
    "import torch"
   ]
  },
  {
   "cell_type": "code",
   "execution_count": 3,
   "metadata": {},
   "outputs": [],
   "source": [
    "decoder_dim=256\n",
    "mlp_dropout = 0.3\n",
    "\n",
    "mlp_func = partial(\n",
    "    GenericMLP,\n",
    "    norm_fn_name=\"bn1d\",\n",
    "    activation=\"relu\",\n",
    "    use_conv=True,\n",
    "    hidden_dims=[decoder_dim, decoder_dim],\n",
    "    dropout=mlp_dropout,\n",
    "    input_dim=decoder_dim,\n",
    ")\n",
    "dataset_config_num_semcls = 5\n",
    "semcls_head = mlp_func(output_dim=dataset_config_num_semcls + 1)"
   ]
  },
  {
   "cell_type": "code",
   "execution_count": 4,
   "metadata": {},
   "outputs": [
    {
     "data": {
      "text/plain": [
       "GenericMLP(\n",
       "  (layers): Sequential(\n",
       "    (0): Conv1d(256, 256, kernel_size=(1,), stride=(1,), bias=False)\n",
       "    (1): BatchNorm1d(256, eps=1e-05, momentum=0.1, affine=True, track_running_stats=True)\n",
       "    (2): ReLU()\n",
       "    (3): Dropout(p=0.3, inplace=False)\n",
       "    (4): Conv1d(256, 256, kernel_size=(1,), stride=(1,), bias=False)\n",
       "    (5): BatchNorm1d(256, eps=1e-05, momentum=0.1, affine=True, track_running_stats=True)\n",
       "    (6): ReLU()\n",
       "    (7): Dropout(p=0.3, inplace=False)\n",
       "    (8): Conv1d(256, 6, kernel_size=(1,), stride=(1,))\n",
       "  )\n",
       ")"
      ]
     },
     "execution_count": 4,
     "metadata": {},
     "output_type": "execute_result"
    }
   ],
   "source": [
    "semcls_head"
   ]
  },
  {
   "cell_type": "code",
   "execution_count": 32,
   "metadata": {},
   "outputs": [
    {
     "data": {
      "text/plain": [
       "256"
      ]
     },
     "execution_count": 32,
     "metadata": {},
     "output_type": "execute_result"
    }
   ],
   "source": [
    "semcls_head.layers[-1].in_channels"
   ]
  },
  {
   "cell_type": "code",
   "execution_count": 13,
   "metadata": {},
   "outputs": [
    {
     "data": {
      "text/plain": [
       "Parameter containing:\n",
       "tensor([ 5.4622e-02,  2.7667e-02,  5.5343e-02, -3.0710e-02,  4.5826e-02,\n",
       "         7.5258e-05], requires_grad=True)"
      ]
     },
     "execution_count": 13,
     "metadata": {},
     "output_type": "execute_result"
    }
   ],
   "source": [
    "semcls_head.layers[-1].bias"
   ]
  },
  {
   "cell_type": "code",
   "execution_count": 11,
   "metadata": {},
   "outputs": [],
   "source": [
    "_b = semcls_head.layers[-1].bias.detach().clone()"
   ]
  },
  {
   "cell_type": "code",
   "execution_count": 17,
   "metadata": {},
   "outputs": [
    {
     "name": "stdout",
     "output_type": "stream",
     "text": [
      "torch.Size([6])\n",
      "torch.Size([5])\n"
     ]
    }
   ],
   "source": [
    "print(_b.shape)\n",
    "print(_b[:-1].shape)"
   ]
  },
  {
   "cell_type": "code",
   "execution_count": 20,
   "metadata": {},
   "outputs": [
    {
     "name": "stdout",
     "output_type": "stream",
     "text": [
      "torch.Size([6, 256, 1])\n",
      "torch.Size([5, 256, 1])\n"
     ]
    }
   ],
   "source": [
    "_w = semcls_head.layers[-1].weight.detach().clone()\n",
    "print(_w.shape)\n",
    "print(_w[:-1, ...].shape)"
   ]
  },
  {
   "cell_type": "code",
   "execution_count": 21,
   "metadata": {},
   "outputs": [],
   "source": [
    "_b_no_bg = _b[:-1]\n",
    "_w_no_bg = _w[:-1, ...]"
   ]
  },
  {
   "cell_type": "code",
   "execution_count": 26,
   "metadata": {},
   "outputs": [
    {
     "name": "stdout",
     "output_type": "stream",
     "text": [
      "torch.Size([11, 256, 1])\n",
      "torch.Size([11])\n"
     ]
    }
   ],
   "source": [
    "_w_new = torch.cat((_w_no_bg, _w), dim=0)\n",
    "print(_w_new.shape)\n",
    "\n",
    "_b_new = torch.cat((_b_no_bg, _b), dim=0)\n",
    "print(_b_new.shape)"
   ]
  },
  {
   "cell_type": "code",
   "execution_count": null,
   "metadata": {},
   "outputs": [],
   "source": [
    "# Conclusion: change the last conv1d of the GenericMLP to a new size.\n",
    "# Note that the last class is for \"no object\" class."
   ]
  }
 ],
 "metadata": {
  "kernelspec": {
   "display_name": "venv",
   "language": "python",
   "name": "python3"
  },
  "language_info": {
   "codemirror_mode": {
    "name": "ipython",
    "version": 3
   },
   "file_extension": ".py",
   "mimetype": "text/x-python",
   "name": "python",
   "nbconvert_exporter": "python",
   "pygments_lexer": "ipython3",
   "version": "3.8.10"
  },
  "orig_nbformat": 4
 },
 "nbformat": 4,
 "nbformat_minor": 2
}
