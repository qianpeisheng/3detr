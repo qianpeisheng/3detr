{
 "cells": [
  {
   "cell_type": "code",
   "execution_count": 1,
   "metadata": {},
   "outputs": [],
   "source": [
    "import os\n",
    "import sys\n",
    "import pickle\n",
    "import time\n",
    "import numpy as np\n",
    "import torch\n",
    "from torch.multiprocessing import set_start_method\n",
    "from torch.utils.data import DataLoader, DistributedSampler\n",
    "\n",
    "from utils.eval_det_debug import eval_det_multiprocessing\n",
    "import copy\n",
    "import pickle\n",
    "import matplotlib.pyplot as plt\n",
    "\n",
    "# 3DETR codebase specific imports\n",
    "from datasets import build_dataset_base\n",
    "from models import build_model\n",
    "from optimizer import build_optimizer\n",
    "from criterion import build_criterion\n",
    "from utils.dist import init_distributed, is_distributed, is_primary, get_rank, barrier, all_gather_dict, all_reduce_average, is_primary, reduce_dict\n",
    "from utils.misc import my_worker_init_fn, SmoothedValue\n",
    "from utils.io import save_checkpoint, resume_if_possible, resume_if_possible_SDCoT\n",
    "from utils.logger import Logger\n",
    "from utils.ap_calculator_debug import APCalculator, get_ap_config_dict, parse_predictions_SDCoT, get_ap_config_dict"
   ]
  },
  {
   "cell_type": "markdown",
   "metadata": {},
   "source": [
    "# v"
   ]
  },
  {
   "cell_type": "markdown",
   "metadata": {},
   "source": [
    "Train set stats  \n",
    "\n",
    "{8: 1747, 4: 3948, 0: 107, 3: 1240, 7: 515, 1: 295, 5: 196, 6: 261, 2: 262}\n",
    "\n",
    "Evaluate ; Batch [0/75]; Iter time 5.12; Mem 5333.06MB\n",
    "Evaluate ; Batch [10/75]; Iter time 4.93; Mem 5333.06MB\n",
    "Evaluate ; Batch [20/75]; Iter time 4.88; Mem 5333.06MB\n",
    "Evaluate ; Batch [30/75]; Iter time 4.89; Mem 5333.06MB\n",
    "Evaluate ; Batch [40/75]; Iter time 4.89; Mem 5333.06MB\n",
    "Evaluate ; Batch [50/75]; Iter time 4.82; Mem 5333.06MB\n",
    "Evaluate ; Batch [60/75]; Iter time 4.91; Mem 5333.06MB\n",
    "Evaluate ; Batch [70/75]; Iter time 4.88; Mem 5333.06MB\n",
    "====================\n",
    "Test model; Metrics mAP0.25, mAP0.50, mAP0.75: 95.57, 89.28, 49.20\n",
    "AR0.25, AR0.50, AR0.75: 96.97, 91.93, 60.98\n",
    "-----\n",
    "IOU Thresh=0.25\n",
    "bathtub Average Precision: 99.78\n",
    "bed Average Precision: 99.54\n",
    "bookshelf Average Precision: 96.98\n",
    "cabinet Average Precision: 96.37\n",
    "chair Average Precision: 97.75\n",
    "counter Average Precision: 96.29\n",
    "curtain Average Precision: 96.19\n",
    "desk Average Precision: 95.95\n",
    "door Average Precision: 81.30\n",
    "bathtub Recall: 100.00\n",
    "bed Recall: 99.66\n",
    "bookshelf Recall: 99.24\n",
    "cabinet Recall: 97.98\n",
    "chair Recall: 98.51\n",
    "counter Recall: 98.47\n",
    "curtain Recall: 97.32\n",
    "desk Recall: 98.64\n",
    "door Recall: 82.88\n",
    "-----\n",
    "IOU Thresh=0.5\n",
    "bathtub Average Precision: 98.83\n",
    "bed Average Precision: 98.88\n",
    "bookshelf Average Precision: 87.22\n",
    "cabinet Average Precision: 88.67\n",
    "chair Average Precision: 92.64\n",
    "counter Average Precision: 87.53\n",
    "curtain Average Precision: 85.74\n",
    "desk Average Precision: 92.17\n",
    "door Average Precision: 71.85\n",
    "bathtub Recall: 99.07\n",
    "bed Recall: 98.98\n",
    "bookshelf Recall: 91.60\n",
    "cabinet Recall: 91.37\n",
    "chair Recall: 94.50\n",
    "counter Recall: 91.33\n",
    "curtain Recall: 89.66\n",
    "desk Recall: 95.53\n",
    "door Recall: 75.33\n",
    "-----\n",
    "IOU Thresh=0.75  \n",
    "bathtub Average Precision: 77.70  \n",
    "bed Average Precision: 91.01  \n",
    "bookshelf Average Precision: 38.24  \n",
    "cabinet Average Precision: 40.61  \n",
    "chair Average Precision: 49.87  \n",
    "counter Average Precision: 28.26  \n",
    "curtain Average Precision: 34.47  \n",
    "desk Average Precision: 64.73  \n",
    "door Average Precision: 17.95  \n",
    "bathtub Recall: 85.05  \n",
    "bed Recall: 92.20  \n",
    "bookshelf Recall: 54.96  \n",
    "cabinet Recall: 54.92  \n",
    "chair Recall: 62.34  \n",
    "counter Recall: 43.37  \n",
    "curtain Recall: 47.89  \n",
    "desk Recall: 74.17  \n",
    "door Recall: 33.94  \n",
    "====================\n",
    "\n",
    "9  \n",
    "desk Recall: 74.17  \n",
    "door Recall: 33.94  \n",
    "====================\n",
    "\n",
    "ll: 47.89\n",
    "desk Recall: 74.17\n",
    "door Recall: 33.94\n",
    "===================="
   ]
  },
  {
   "cell_type": "markdown",
   "metadata": {},
   "source": [
    "#### Test set stats\n",
    "{4: 1368, 2: 77, 6: 67, 8: 467, 3: 372, 5: 52, 7: 127, 1: 81, 0: 31}"
   ]
  },
  {
   "cell_type": "code",
   "execution_count": 2,
   "metadata": {},
   "outputs": [],
   "source": [
    "AP_THRESHOLD = [0.25, 0.5, 0.75]\n",
    "\n",
    "@torch.no_grad()\n",
    "def evaluate(\n",
    "    args,\n",
    "    curr_epoch,\n",
    "    model,\n",
    "    criterion,\n",
    "    dataset_config,\n",
    "    dataset_loader,\n",
    "    logger,\n",
    "    curr_train_iter,\n",
    "):\n",
    "\n",
    "    # ap calculator is exact for evaluation. This is slower than the ap calculator used during training.\n",
    "    ap_calculator = APCalculator(\n",
    "        dataset_config=dataset_config,\n",
    "        ap_iou_thresh=AP_THRESHOLD,\n",
    "        class2type_map=dataset_config.class2type,\n",
    "        exact_eval=True,\n",
    "    )\n",
    "\n",
    "    curr_iter = 0\n",
    "    net_device = next(model.parameters()).device\n",
    "    num_batches = len(dataset_loader)\n",
    "\n",
    "    time_delta = SmoothedValue(window_size=10)\n",
    "    loss_avg = SmoothedValue(window_size=10)\n",
    "    model.eval()\n",
    "    barrier()\n",
    "    epoch_str = f\"[{curr_epoch}/{args.max_epoch}]\" if curr_epoch > 0 else \"\"\n",
    "\n",
    "    cls_labels = []\n",
    "    cls_masks = []\n",
    "    preds = []\n",
    "    for batch_idx, batch_data_label in enumerate(dataset_loader):\n",
    "        # print(batch_idx, batch_data_label['gt_box_sem_cls_label'].shape) # (16, 64)\n",
    "        cls_labels.append(batch_data_label['gt_box_sem_cls_label'])\n",
    "        cls_masks.append(batch_data_label['gt_box_present'])\n",
    "        curr_time = time.time()\n",
    "        for key in batch_data_label:\n",
    "            batch_data_label[key] = batch_data_label[key].to(net_device)\n",
    "\n",
    "        inputs = {\n",
    "            \"point_clouds\": batch_data_label[\"point_clouds\"],\n",
    "            \"point_cloud_dims_min\": batch_data_label[\"point_cloud_dims_min\"],\n",
    "            \"point_cloud_dims_max\": batch_data_label[\"point_cloud_dims_max\"],\n",
    "        }\n",
    "        outputs = model(inputs)\n",
    "\n",
    "        # Memory intensive as it gathers point cloud GT tensor across all ranks\n",
    "        outputs[\"outputs\"] = all_gather_dict(outputs[\"outputs\"])\n",
    "        batch_data_label = all_gather_dict(batch_data_label)\n",
    "        batch_pred_map_cls = ap_calculator.step_meter(outputs, batch_data_label)\n",
    "        preds.append(batch_pred_map_cls)\n",
    "        time_delta.update(time.time() - curr_time)\n",
    "        if is_primary() and curr_iter % args.log_every == 0:\n",
    "            mem_mb = torch.cuda.max_memory_allocated() / (1024 ** 2)\n",
    "            print(\n",
    "                f\"Evaluate {epoch_str}; Batch [{curr_iter}/{num_batches}]; Iter time {time_delta.avg:0.2f}; Mem {mem_mb:0.2f}MB\"\n",
    "            )\n",
    "\n",
    "            test_dict = {}\n",
    "            test_dict[\"memory\"] = mem_mb\n",
    "            test_dict[\"batch_time\"] = time_delta.avg\n",
    "            if criterion is not None:\n",
    "                test_dict[\"loss\"] = loss_avg.avg\n",
    "        curr_iter += 1\n",
    "        barrier()\n",
    "    if is_primary():\n",
    "        if criterion is not None:\n",
    "            logger.log_scalars(\n",
    "                loss_dict_reduced, curr_train_iter, prefix=\"Test_details/\"\n",
    "            )\n",
    "        logger.log_scalars(test_dict, curr_train_iter, prefix=\"Test/\")\n",
    "\n",
    "    return ap_calculator, cls_labels, cls_masks, preds"
   ]
  },
  {
   "cell_type": "markdown",
   "metadata": {},
   "source": [
    "The evaluation could be from number of proposals (by class and all)"
   ]
  },
  {
   "cell_type": "code",
   "execution_count": 3,
   "metadata": {},
   "outputs": [
    {
     "name": "stdout",
     "output_type": "stream",
     "text": [
      "1\n"
     ]
    }
   ],
   "source": [
    "class TempArgs:\n",
    "    def __init__(self) -> None:\n",
    "        self.dataset_name = 'scannet'\n",
    "        self.num_base_class = 9\n",
    "        self.num_novel_class = 9\n",
    "        self.dataset_root_dir = None\n",
    "        self.meta_data_dir = None\n",
    "        self.use_color = False\n",
    "        self.seed = 42\n",
    "        # self.checkpoint_dir = 'ckpts_scannet/debug_test_notebook'\n",
    "        # self.checkpoint_name = 'checkpoint_best_6480.pth'\n",
    "        self.test_ckpt = 'ckpts_scannet/debug_test_notebook/checkpoint_best_6480.pth'\n",
    "        self.enc_dim = 256\n",
    "        self.dec_dim = 512\n",
    "        self.nqueries = 256\n",
    "        self.mlp_dropout = 0.3\n",
    "        self.model_name = '3detr'\n",
    "        self.preenc_npoints = 2048\n",
    "        self.enc_type = 'masked'\n",
    "        self.enc_nhead = 4\n",
    "        self.enc_ffn_dim = 128\n",
    "        self.enc_dropout = 0.1\n",
    "        self.enc_activation = 'relu'\n",
    "        self.enc_nlayers = 3\n",
    "\n",
    "        # define for the decoder\n",
    "        self.dec_nhead = 4\n",
    "        self.dec_ffn_dim = 256\n",
    "        self.dec_dropout = 0.1\n",
    "        self.dec_nlayers = 8\n",
    "        self.dec_dim = 256\n",
    "\n",
    "        # criterion\n",
    "        self.matcher_cls_cost = 1\n",
    "        self.matcher_giou_cost = 2\n",
    "        self.batchsize_per_gpu = 16\n",
    "        self.dataset_num_workers = 0\n",
    "        self.log_every = 10\n",
    "\n",
    "_args = TempArgs()\n",
    "print(_args.matcher_cls_cost)"
   ]
  },
  {
   "cell_type": "code",
   "execution_count": 4,
   "metadata": {},
   "outputs": [
    {
     "name": "stdout",
     "output_type": "stream",
     "text": [
      "kept 1199 scans out of 1201\n",
      "kept 312 scans out of 312\n"
     ]
    }
   ],
   "source": [
    "torch.cuda.set_device(0)\n",
    "np.random.seed(42)\n",
    "torch.manual_seed(42)\n",
    "if torch.cuda.is_available():\n",
    "    torch.cuda.manual_seed_all(42)\n",
    "\n",
    "datasets, dataset_config = build_dataset_base(_args)\n",
    "model, _ = build_model(_args, dataset_config)\n",
    "model = model.cuda()\n",
    "model_no_ddp = model\n",
    "\n",
    "dataloaders = {}\n",
    "split = \"train\"\n",
    "sampler = torch.utils.data.SequentialSampler(datasets[split])\n",
    "\n",
    "dataloaders[split] = DataLoader(\n",
    "    datasets[split],\n",
    "    sampler=sampler,\n",
    "    batch_size=_args.batchsize_per_gpu,\n",
    "    num_workers=_args.dataset_num_workers,\n",
    "    worker_init_fn=my_worker_init_fn,\n",
    ")\n",
    "dataloaders[split + \"_sampler\"] = sampler\n",
    "\n",
    "criterion = None  # faster evaluation"
   ]
  },
  {
   "cell_type": "code",
   "execution_count": 5,
   "metadata": {},
   "outputs": [
    {
     "name": "stdout",
     "output_type": "stream",
     "text": [
      "Evaluate ; Batch [0/75]; Iter time 7.78; Mem 5195.06MB\n",
      "Evaluate ; Batch [10/75]; Iter time 4.93; Mem 5202.78MB\n",
      "Evaluate ; Batch [20/75]; Iter time 4.87; Mem 5202.78MB\n",
      "Evaluate ; Batch [30/75]; Iter time 4.89; Mem 5202.78MB\n",
      "Evaluate ; Batch [40/75]; Iter time 4.89; Mem 5202.78MB\n",
      "Evaluate ; Batch [50/75]; Iter time 4.84; Mem 5202.78MB\n",
      "Evaluate ; Batch [60/75]; Iter time 4.92; Mem 5202.78MB\n",
      "Evaluate ; Batch [70/75]; Iter time 4.86; Mem 5202.78MB\n"
     ]
    }
   ],
   "source": [
    "# Set class threshold\n",
    "\n",
    "sd = torch.load(_args.test_ckpt, map_location=torch.device(\"cpu\"))\n",
    "model_no_ddp.load_state_dict(sd[\"model\"])\n",
    "logger = Logger()\n",
    "epoch = -1\n",
    "curr_iter = 0\n",
    "ap_calculator, cls_labels, cls_masks, preds = evaluate(\n",
    "    _args,\n",
    "    epoch,\n",
    "    model,\n",
    "    criterion,\n",
    "    dataset_config,\n",
    "    dataloaders[\"train\"],\n",
    "    logger,\n",
    "    curr_iter,\n",
    ")"
   ]
  },
  {
   "cell_type": "code",
   "execution_count": 6,
   "metadata": {},
   "outputs": [
    {
     "name": "stdout",
     "output_type": "stream",
     "text": [
      "====================\n",
      "Test model; Metrics mAP0.25, mAP0.50, mAP0.75: 95.57, 89.28, 49.20\n",
      "AR0.25, AR0.50, AR0.75: 96.97, 91.93, 60.98\n",
      "-----\n",
      "IOU Thresh=0.25\n",
      "bathtub Average Precision: 99.78\n",
      "bed Average Precision: 99.54\n",
      "bookshelf Average Precision: 96.99\n",
      "cabinet Average Precision: 96.35\n",
      "chair Average Precision: 97.75\n",
      "counter Average Precision: 96.31\n",
      "curtain Average Precision: 96.21\n",
      "desk Average Precision: 95.94\n",
      "door Average Precision: 81.30\n",
      "bathtub Recall: 100.00\n",
      "bed Recall: 99.66\n",
      "bookshelf Recall: 99.24\n",
      "cabinet Recall: 97.98\n",
      "chair Recall: 98.51\n",
      "counter Recall: 98.47\n",
      "curtain Recall: 97.32\n",
      "desk Recall: 98.64\n",
      "door Recall: 82.88\n",
      "-----\n",
      "IOU Thresh=0.5\n",
      "bathtub Average Precision: 98.83\n",
      "bed Average Precision: 98.88\n",
      "bookshelf Average Precision: 87.23\n",
      "cabinet Average Precision: 88.65\n",
      "chair Average Precision: 92.64\n",
      "counter Average Precision: 87.52\n",
      "curtain Average Precision: 85.72\n",
      "desk Average Precision: 92.17\n",
      "door Average Precision: 71.85\n",
      "bathtub Recall: 99.07\n",
      "bed Recall: 98.98\n",
      "bookshelf Recall: 91.60\n",
      "cabinet Recall: 91.37\n",
      "chair Recall: 94.50\n",
      "counter Recall: 91.33\n",
      "curtain Recall: 89.66\n",
      "desk Recall: 95.53\n",
      "door Recall: 75.33\n",
      "-----\n",
      "IOU Thresh=0.75\n",
      "bathtub Average Precision: 77.70\n",
      "bed Average Precision: 91.01\n",
      "bookshelf Average Precision: 38.24\n",
      "cabinet Average Precision: 40.59\n",
      "chair Average Precision: 49.87\n",
      "counter Average Precision: 28.24\n",
      "curtain Average Precision: 34.47\n",
      "desk Average Precision: 64.76\n",
      "door Average Precision: 17.94\n",
      "bathtub Recall: 85.05\n",
      "bed Recall: 92.20\n",
      "bookshelf Recall: 54.96\n",
      "cabinet Recall: 54.92\n",
      "chair Recall: 62.34\n",
      "counter Recall: 43.37\n",
      "curtain Recall: 47.89\n",
      "desk Recall: 74.17\n",
      "door Recall: 33.94\n",
      "====================\n"
     ]
    }
   ],
   "source": [
    "metrics = ap_calculator.compute_metrics()\n",
    "metric_str = ap_calculator.metrics_to_str(metrics)\n",
    "if is_primary():\n",
    "    print(\"==\" * 10)\n",
    "    print(f\"Test model; Metrics {metric_str}\")\n",
    "    print(\"==\" * 10)"
   ]
  },
  {
   "cell_type": "code",
   "execution_count": 25,
   "metadata": {},
   "outputs": [],
   "source": [
    "# ap_calculator.gt_map_cls[7]"
   ]
  },
  {
   "cell_type": "code",
   "execution_count": 26,
   "metadata": {},
   "outputs": [],
   "source": [
    "# ap_calculator.pred_map_cls[7] # first prob is sem cls, 2nd prob is obj"
   ]
  },
  {
   "cell_type": "code",
   "execution_count": 10,
   "metadata": {},
   "outputs": [],
   "source": [
    "# cls_labels[0][0][:6]\n",
    "filtered_labels = []\n",
    "for i in range(len(cls_labels)):\n",
    "    for j in range(cls_labels[i].shape[0]): # batch size\n",
    "        num_objects = cls_masks[i][j].sum()\n",
    "        # print(num_objects)\n",
    "        cls_labels_filtered_current = cls_labels[i][j][:int(num_objects)]\n",
    "        filtered_labels.append(cls_labels_filtered_current)"
   ]
  },
  {
   "cell_type": "code",
   "execution_count": 11,
   "metadata": {},
   "outputs": [
    {
     "name": "stdout",
     "output_type": "stream",
     "text": [
      "{8: 1747, 4: 3948, 0: 107, 3: 1240, 7: 515, 1: 295, 5: 196, 6: 261, 2: 262}\n"
     ]
    }
   ],
   "source": [
    "# Initialize an empty dictionary to store the counts\n",
    "number_counts = {}\n",
    "\n",
    "# Iterate through each tensor in the list\n",
    "for tensor in filtered_labels:\n",
    "    # Iterate through each number in the tensor and count occurrences\n",
    "    for number in tensor:\n",
    "        if number.item() in number_counts:\n",
    "            number_counts[number.item()] += 1\n",
    "        else:\n",
    "            number_counts[number.item()] = 1\n",
    "\n",
    "print(number_counts)"
   ]
  },
  {
   "cell_type": "code",
   "execution_count": 51,
   "metadata": {},
   "outputs": [],
   "source": [
    "# # to find an index that adjusting the cls and obj threshold really works\n",
    "# train_idx = 4\n",
    "# print(ap_calculator.gt_map_cls[train_idx]) # 45\n",
    "# # ap_calculator.pred_map_cls[0]\n",
    "# obj_thresh = 0.5\n",
    "# cls_thresh = 0.1\n",
    "# __threshed = [_i for _i in ap_calculator.pred_map_cls[train_idx] if _i[-1] > obj_thresh and _i[-2] > cls_thresh]\n",
    "# print(__threshed)"
   ]
  },
  {
   "cell_type": "code",
   "execution_count": 10,
   "metadata": {},
   "outputs": [],
   "source": [
    "# len(preds) # preds is a list (75 num batch) of list (16 batch size) "
   ]
  },
  {
   "cell_type": "code",
   "execution_count": 11,
   "metadata": {},
   "outputs": [
    {
     "data": {
      "text/plain": [
       "1199"
      ]
     },
     "execution_count": 11,
     "metadata": {},
     "output_type": "execute_result"
    }
   ],
   "source": [
    "len(ap_calculator.gt_map_cls)"
   ]
  },
  {
   "cell_type": "code",
   "execution_count": 53,
   "metadata": {},
   "outputs": [
    {
     "name": "stdout",
     "output_type": "stream",
     "text": [
      "699\n"
     ]
    }
   ],
   "source": [
    "sum_of_errors = 0\n",
    "obj_thresh = 0.8\n",
    "cls_thresh = 0.8\n",
    "for i in range(len(ap_calculator.gt_map_cls)):\n",
    "        _threshed = [_i for _i in ap_calculator.pred_map_cls[i] if _i[-1] > obj_thresh and _i[-2] > cls_thresh]\n",
    "        # print(i, len(_threshed), len(ap_calculator.gt_map_cls[i]))\n",
    "        current_error = abs(len(_threshed) - len(ap_calculator.gt_map_cls[i]))\n",
    "        sum_of_errors += current_error\n",
    "        # if current_error > 2:\n",
    "        #     print(i, current_error)\n",
    "        # print(i, sum_of_errors)\n",
    "print(sum_of_errors)"
   ]
  },
  {
   "cell_type": "code",
   "execution_count": 149,
   "metadata": {},
   "outputs": [
    {
     "name": "stdout",
     "output_type": "stream",
     "text": [
      "753\n",
      "{4: 3949, 8: 1747, 0: 107, 3: 1239, 7: 513, 1: 295, 5: 194, 6: 260, 2: 262}\n",
      "{8: 1747, 4: 3948, 0: 107, 3: 1240, 7: 515, 1: 295, 5: 196, 6: 261, 2: 262}\n",
      "{4: 1, 8: 0, 0: 0, 3: -1, 7: -2, 1: 0, 5: -2, 6: -1, 2: 0}\n"
     ]
    }
   ],
   "source": [
    "# for a class wise filtering and statistics\n",
    "\n",
    "# # Initialize an empty dictionary to store the counts\n",
    "number_counts_pred = {}\n",
    "\n",
    "class_errors = {}\n",
    "\n",
    "# print(number_counts)\n",
    "\n",
    "sum_of_errors_cls = 0\n",
    "obj_thresholds_list = [0.93, 0.95, 0.89, 0.86, 0.83, 0.89, 0.88, 0.9, 0.21]\n",
    "cls_thresholds_list = [0.93, 0.95, 0.89, 0.86, 0.83, 0.89, 0.88, 0.9, 0.21]\n",
    "for i in range(len(ap_calculator.gt_map_cls)):\n",
    "        _threshed = [_i for _i in ap_calculator.pred_map_cls[i] if _i[-1] > obj_thresholds_list[_i[0]] and _i[-2] > cls_thresholds_list[_i[0]]]\n",
    "        # print(i, len(_threshed), len(ap_calculator.gt_map_cls[i]))\n",
    "        for _pred in _threshed:\n",
    "            if _pred[0] in number_counts_pred:\n",
    "                number_counts_pred[_pred[0]] += 1\n",
    "            else:\n",
    "                number_counts_pred[_pred[0]] = 1\n",
    "        current_error = abs(len(_threshed) - len(ap_calculator.gt_map_cls[i]))\n",
    "        sum_of_errors_cls += current_error\n",
    "        # if current_error > 2:\n",
    "        #     print(i, current_error)\n",
    "        # print(i, sum_of_errors)\n",
    "for k, v in number_counts_pred.items():\n",
    "    class_errors[k] = v - number_counts[k]\n",
    "print(sum_of_errors_cls)\n",
    "print(number_counts_pred)\n",
    "print(number_counts)\n",
    "print(class_errors)\n",
    "# print(sum(class_errors.values()))"
   ]
  },
  {
   "cell_type": "code",
   "execution_count": 48,
   "metadata": {},
   "outputs": [],
   "source": [
    "# compute difference between obj threshold and cls threshold\n",
    "obj_thres = []\n",
    "cls_thres = []\n",
    "for i in range(len(ap_calculator.gt_map_cls)):\n",
    "    obj_thres.extend([_i[-1] for _i in ap_calculator.pred_map_cls[i]])\n",
    "    cls_thres.extend([_i[-2] for _i in ap_calculator.pred_map_cls[i]])"
   ]
  },
  {
   "cell_type": "code",
   "execution_count": 50,
   "metadata": {},
   "outputs": [
    {
     "data": {
      "text/plain": [
       "(array([1.0061e+04, 2.0000e+01, 1.0000e+01, 2.0000e+00, 4.0000e+00,\n",
       "        1.0000e+00, 1.0000e+00, 1.0000e+00, 1.0000e+00, 4.0000e+00]),\n",
       " array([0.        , 0.08788698, 0.17577396, 0.26366094, 0.35154793,\n",
       "        0.43943492, 0.52732188, 0.61520886, 0.70309585, 0.79098284,\n",
       "        0.87886983]),\n",
       " <BarContainer object of 10 artists>)"
      ]
     },
     "execution_count": 50,
     "metadata": {},
     "output_type": "execute_result"
    },
    {
     "data": {
      "image/png": "[encoded data removed]",
      "text/plain": [
       "<Figure size 640x480 with 1 Axes>"
      ]
     },
     "metadata": {},
     "output_type": "display_data"
    }
   ],
   "source": [
    "# #diff\n",
    "# object threshold and cls_threshold are highly correlated! (for those above 0.1)\n",
    "diff_list = [abs(i - j ) for i, j in zip(obj_thres, cls_thres) if i> 0.1 and j > 0.1]\n",
    "plt.hist(diff_list)"
   ]
  },
  {
   "cell_type": "code",
   "execution_count": 81,
   "metadata": {},
   "outputs": [],
   "source": [
    "# preds[0][0][:]\n",
    "# ap_calculator.gt_map_cls[0]"
   ]
  },
  {
   "cell_type": "code",
   "execution_count": 82,
   "metadata": {},
   "outputs": [],
   "source": [
    "# [_i for _i in ap_calculator.pred_map_cls[0] if _i[-1] > 0.1]"
   ]
  },
  {
   "cell_type": "code",
   "execution_count": 83,
   "metadata": {},
   "outputs": [],
   "source": [
    "# for i in range(len(preds)):\n",
    "#     for j in range(len(preds[i])):\n",
    "#         _threshed = [_i for _i in preds[i][j] if _i[-1] > 0.1]\n",
    "#         print(i, j, len(_threshed))"
   ]
  },
  {
   "cell_type": "code",
   "execution_count": 114,
   "metadata": {},
   "outputs": [
    {
     "data": {
      "text/plain": [
       "[(4,\n",
       "  array([[-0.9665196 , -0.04548827,  0.64898896],\n",
       "         [-0.9665196 , -0.04548827,  0.16105105],\n",
       "         [-1.5790672 , -0.04548827,  0.16105105],\n",
       "         [-1.5790672 , -0.04548827,  0.64898896],\n",
       "         [-0.9665196 , -0.5069561 ,  0.64898896],\n",
       "         [-0.9665196 , -0.5069561 ,  0.16105105],\n",
       "         [-1.5790672 , -0.5069561 ,  0.16105105],\n",
       "         [-1.5790672 , -0.5069561 ,  0.64898896]], dtype=float32),\n",
       "  0.9968568,\n",
       "  0.99685717),\n",
       " (8,\n",
       "  array([[-1.6870874 , -0.32845008, -2.1023617 ],\n",
       "         [-1.6870874 , -0.32845008, -3.1029234 ],\n",
       "         [-1.9236814 , -0.32845008, -3.1029234 ],\n",
       "         [-1.9236814 , -0.32845008, -2.1023617 ],\n",
       "         [-1.6870874 , -1.6893526 , -2.1023617 ],\n",
       "         [-1.6870874 , -1.6893526 , -3.1029234 ],\n",
       "         [-1.9236814 , -1.6893526 , -3.1029234 ],\n",
       "         [-1.9236814 , -1.6893526 , -2.1023617 ]], dtype=float32),\n",
       "  0.97142303,\n",
       "  0.9714927)]"
      ]
     },
     "execution_count": 114,
     "metadata": {},
     "output_type": "execute_result"
    }
   ],
   "source": [
    "current_pred_all[0]"
   ]
  },
  {
   "cell_type": "code",
   "execution_count": 153,
   "metadata": {},
   "outputs": [],
   "source": [
    "cls_thresholds_list_new = [0.93, 0.95, 0.89, 0.86, 0.83, 0.89, 0.88, 0.9, 0.21]\n",
    "current_pred_all = copy.deepcopy(ap_calculator.pred_map_cls)\n",
    "for i in range(len(ap_calculator.gt_map_cls)):\n",
    "    current_pred_all[i] = [_i for _i in current_pred_all[i] if _i[-1] > cls_thresholds_list_new[_i[0]] and _i[-2] > cls_thresholds_list_new[_i[0]]]\n",
    "rec_25, prec_25, ap_25 = eval_det_multiprocessing(current_pred_all, ap_calculator.gt_map_cls, 0.25)\n",
    "rec_5, prec_5, ap_5 = eval_det_multiprocessing(current_pred_all, ap_calculator.gt_map_cls, 0.5)\n",
    "rec_75, prec_75, ap_75 = eval_det_multiprocessing(current_pred_all, ap_calculator.gt_map_cls, 0.75)\n",
    "rec_8, prec_8, ap_8 = eval_det_multiprocessing(current_pred_all, ap_calculator.gt_map_cls, 0.8)\n",
    "rec_9, prec_9, ap_9 = eval_det_multiprocessing(current_pred_all, ap_calculator.gt_map_cls, 0.9)"
   ]
  },
  {
   "cell_type": "code",
   "execution_count": 151,
   "metadata": {},
   "outputs": [],
   "source": [
    "def show_4_digit(_dict):\n",
    "    temp_dict = _dict\n",
    "    decimal_places = 4\n",
    "    temp_dict = {key: round(value, decimal_places) for key, value in temp_dict.items()}\n",
    "    print(temp_dict)"
   ]
  },
  {
   "cell_type": "code",
   "execution_count": 154,
   "metadata": {},
   "outputs": [
    {
     "name": "stdout",
     "output_type": "stream",
     "text": [
      "{4: 0.9601, 8: 0.8033, 0: 0.9795, 3: 0.9229, 7: 0.9022, 1: 0.9823, 5: 0.9125, 6: 0.9329, 2: 0.9187}\n",
      "{4: 0.9134, 8: 0.7146, 0: 0.9702, 3: 0.8613, 7: 0.8737, 1: 0.9789, 5: 0.8405, 6: 0.8358, 2: 0.8338}\n",
      "{4: 0.4966, 8: 0.1791, 0: 0.7615, 3: 0.4014, 7: 0.6393, 1: 0.9009, 5: 0.2824, 6: 0.3447, 2: 0.3766}\n",
      "{4: 0.2666, 8: 0.0625, 0: 0.6105, 3: 0.227, 7: 0.4196, 1: 0.8049, 5: 0.112, 6: 0.1285, 2: 0.1807}\n",
      "{4: 0.0066, 8: 0.0007, 0: 0.0552, 3: 0.008, 7: 0.0217, 1: 0.1094, 5: 0.0, 6: 0.0015, 2: 0.0021}\n"
     ]
    }
   ],
   "source": [
    "show_4_digit(ap_25)\n",
    "show_4_digit(ap_5)\n",
    "show_4_digit(ap_75)\n",
    "show_4_digit(ap_8)\n",
    "show_4_digit(ap_9)"
   ]
  },
  {
   "cell_type": "code",
   "execution_count": 158,
   "metadata": {},
   "outputs": [
    {
     "name": "stdout",
     "output_type": "stream",
     "text": [
      "{4: 0.9434, 8: 0.7319, 0: 0.9887, 3: 0.9001, 7: 0.9022, 1: 0.9889, 5: 0.8981, 6: 0.9221, 2: 0.9044}\n",
      "{4: 0.9001, 8: 0.6667, 0: 0.9793, 3: 0.8454, 7: 0.8737, 1: 0.9855, 5: 0.8314, 6: 0.8257, 2: 0.8205}\n",
      "{4: 0.495, 8: 0.1744, 0: 0.7693, 3: 0.3974, 7: 0.6393, 1: 0.907, 5: 0.2779, 6: 0.3428, 2: 0.3704}\n",
      "{4: 0.2661, 8: 0.0614, 0: 0.6173, 3: 0.2254, 7: 0.4196, 1: 0.8077, 5: 0.112, 6: 0.1274, 2: 0.1766}\n",
      "{4: 0.0066, 8: 0.0007, 0: 0.0552, 3: 0.008, 7: 0.0217, 1: 0.1095, 5: 0.0, 6: 0.0015, 2: 0.0021}\n"
     ]
    }
   ],
   "source": [
    "obj_thresholds_list_new = [0.9, 0.9, 0.9, 0.9, 0.9, 0.9, 0.9, 0.9, 0.9]\n",
    "cls_thresholds_list_new = [0.9, 0.9, 0.9, 0.9, 0.9, 0.9, 0.9, 0.9, 0.9]\n",
    "current_pred_all = copy.deepcopy(ap_calculator.pred_map_cls)\n",
    "for i in range(len(ap_calculator.gt_map_cls)):\n",
    "    current_pred_all[i] = [_i for _i in current_pred_all[i] if _i[-1] > cls_thresholds_list_new[_i[0]] and _i[-2] > obj_thresholds_list_new[_i[0]]]\n",
    "rec_25, prec_25, ap_25 = eval_det_multiprocessing(current_pred_all, ap_calculator.gt_map_cls, 0.25)\n",
    "rec_5, prec_5, ap_5 = eval_det_multiprocessing(current_pred_all, ap_calculator.gt_map_cls, 0.5)\n",
    "rec_75, prec_75, ap_75 = eval_det_multiprocessing(current_pred_all, ap_calculator.gt_map_cls, 0.75)\n",
    "rec_8, prec_8, ap_8 = eval_det_multiprocessing(current_pred_all, ap_calculator.gt_map_cls, 0.8)\n",
    "rec_9, prec_9, ap_9 = eval_det_multiprocessing(current_pred_all, ap_calculator.gt_map_cls, 0.9)\n",
    "show_4_digit(ap_25)\n",
    "show_4_digit(ap_5)\n",
    "show_4_digit(ap_75)\n",
    "show_4_digit(ap_8)\n",
    "show_4_digit(ap_9)"
   ]
  },
  {
   "cell_type": "code",
   "execution_count": 116,
   "metadata": {},
   "outputs": [],
   "source": [
    "# rec_75"
   ]
  },
  {
   "cell_type": "code",
   "execution_count": 156,
   "metadata": {},
   "outputs": [],
   "source": [
    "obj_thresholds_list_new = [0.95, 0.95, 0.95, 0.95, 0.95, 0.95, 0.95, 0.95, 0.95]\n",
    "cls_thresholds_list_new = [0.9, 0.9, 0.9, 0.9, 0.9, 0.9, 0.9, 0.9, 0.9]\n",
    "current_pred_all = copy.deepcopy(ap_calculator.pred_map_cls)\n",
    "for i in range(len(ap_calculator.gt_map_cls)):\n",
    "    current_pred_all[i] = [_i for _i in current_pred_all[i] if _i[-1] > cls_thresholds_list_new[_i[0]] and _i[-2] > obj_thresholds_list_new[_i[0]]]\n",
    "rec_25, prec_25, ap_25 = eval_det_multiprocessing(current_pred_all, ap_calculator.gt_map_cls, 0.25)\n",
    "rec_5, prec_5, ap_5 = eval_det_multiprocessing(current_pred_all, ap_calculator.gt_map_cls, 0.5)\n",
    "rec_75, prec_75, ap_75 = eval_det_multiprocessing(current_pred_all, ap_calculator.gt_map_cls, 0.75)\n",
    "rec_8, prec_8, ap_8 = eval_det_multiprocessing(current_pred_all, ap_calculator.gt_map_cls, 0.8)\n",
    "rec_9, prec_9, ap_9 = eval_det_multiprocessing(current_pred_all, ap_calculator.gt_map_cls, 0.9)"
   ]
  },
  {
   "cell_type": "code",
   "execution_count": 157,
   "metadata": {},
   "outputs": [
    {
     "name": "stdout",
     "output_type": "stream",
     "text": [
      "{4: 0.9066, 8: 0.6169, 0: 0.9333, 3: 0.8107, 7: 0.8366, 1: 0.9823, 5: 0.8299, 2: 0.8358, 6: 0.8555}\n",
      "{4: 0.8685, 8: 0.5729, 0: 0.9333, 3: 0.7727, 7: 0.8114, 1: 0.9789, 5: 0.7757, 2: 0.7698, 6: 0.7741}\n",
      "{4: 0.4869, 8: 0.1595, 0: 0.7378, 3: 0.3775, 7: 0.6188, 1: 0.9009, 5: 0.2779, 2: 0.3618, 6: 0.333}\n",
      "{4: 0.263, 8: 0.0572, 0: 0.5968, 3: 0.2185, 7: 0.408, 1: 0.8049, 5: 0.112, 2: 0.1723, 6: 0.1238}\n",
      "{4: 0.0066, 8: 0.0006, 0: 0.0552, 3: 0.0079, 7: 0.0217, 1: 0.1094, 5: 0.0, 2: 0.002, 6: 0.0015}\n"
     ]
    }
   ],
   "source": [
    "show_4_digit(ap_25)\n",
    "show_4_digit(ap_5)\n",
    "show_4_digit(ap_75)\n",
    "show_4_digit(ap_8)\n",
    "show_4_digit(ap_9)"
   ]
  },
  {
   "cell_type": "code",
   "execution_count": 96,
   "metadata": {},
   "outputs": [
    {
     "name": "stdout",
     "output_type": "stream",
     "text": [
      "25 {2: 0.9669344078162831, 4: 0.9736649493483792, 8: 0.8013889841110993, 0: 0.9977968379837538, 3: 0.9582510218598864, 7: 0.9536158441538727, 1: 0.9921923188401633, 5: 0.9544629618463694, 6: 0.9567427084093507} 5 {2: 0.8722270706907607, 4: 0.9238105553074238, 8: 0.7142420369325181, 0: 0.9882674698095258, 3: 0.884419058731724, 7: 0.9186577599610337, 1: 0.9887685129308397, 5: 0.8713655380109844, 6: 0.8547679176800966} 75 {2: 0.3823843994889877, 4: 0.4984389945028695, 8: 0.17918313601001096, 0: 0.7770403383703994, 3: 0.40609353723678804, 7: 0.6473285912028993, 1: 0.9100717290478253, 5: 0.282616387171082, 6: 0.3446683427184461}\n",
      "25 {4: 0.9722485175535187, 8: 0.7964436115810423, 0: 0.9977968379837538, 3: 0.9563168551752244, 7: 0.9536158441538727, 1: 0.9921923188401633, 5: 0.9544629618463694, 6: 0.9504027315943053, 2: 0.9669344078162831} 5 {4: 0.9224513213592584, 8: 0.712419792310374, 0: 0.9882674698095258, 3: 0.8832119830437546, 7: 0.9186577599610337, 1: 0.9887685129308397, 5: 0.8713655380109844, 6: 0.8489069147133363, 2: 0.8722270706907607} 75 {4: 0.4979884923017076, 8: 0.17918313601001096, 0: 0.7770403383703994, 3: 0.4057322256917965, 7: 0.6473285912028993, 1: 0.9100717290478253, 5: 0.282616387171082, 6: 0.3446683427184461, 2: 0.3823843994889877}\n",
      "25 {4: 0.9715327731395645, 8: 0.7944353428032055, 0: 0.9977968379837538, 3: 0.9549829237506287, 7: 0.9519256182873803, 1: 0.9921923188401633, 5: 0.9544629618463694, 6: 0.9504027315943053, 2: 0.9636932615267073} 5 {4: 0.921535157966383, 8: 0.711954351554793, 0: 0.9882674698095258, 3: 0.8819623584243363, 7: 0.917014484813055, 1: 0.9887685129308397, 5: 0.8713655380109844, 6: 0.8489069147133363, 2: 0.8692236918896095} 75 {4: 0.4978365540117956, 8: 0.17897170212334806, 0: 0.7770403383703994, 3: 0.4057322256917965, 7: 0.6473285912028993, 1: 0.9100717290478253, 5: 0.282616387171082, 6: 0.3446683427184461, 2: 0.3823843994889877}\n",
      "25 {4: 0.9688952545732363, 8: 0.7903327319055433, 0: 0.9977968379837538, 3: 0.9529197348995504, 7: 0.9519256182873803, 1: 0.9921923188401633, 5: 0.9453979404889892, 6: 0.9470180870496754, 2: 0.9636932615267073} 5 {4: 0.9196942927272758, 8: 0.7091065781565833, 0: 0.9882674698095258, 3: 0.8800204521777952, 7: 0.917014484813055, 1: 0.9887685129308397, 5: 0.867141522823514, 6: 0.8457795031540982, 2: 0.8692236918896095} 75 {4: 0.4973788729856004, 8: 0.17897170212334806, 0: 0.7770403383703994, 3: 0.40495313701529806, 7: 0.6473285912028993, 1: 0.9100717290478253, 5: 0.282616387171082, 6: 0.3446683427184461, 2: 0.3823843994889877}\n",
      "25 {4: 0.967447393080773, 8: 0.786683511989878, 0: 0.9977968379837538, 3: 0.9472509272540597, 7: 0.9484713294380555, 1: 0.9921923188401633, 5: 0.9453979404889892, 6: 0.9401792125801002, 2: 0.9534952867923012} 5 {4: 0.918534238495485, 8: 0.7071751543329061, 0: 0.9882674698095258, 3: 0.8773665530743481, 7: 0.9136563388517362, 1: 0.9887685129308397, 5: 0.867141522823514, 6: 0.8426209868328085, 2: 0.859782212901211} 75 {4: 0.4972250661293336, 8: 0.17897170212334806, 0: 0.7770403383703994, 3: 0.4045543228697486, 7: 0.6460180831237199, 1: 0.9100717290478253, 5: 0.282616387171082, 6: 0.3446683427184461, 2: 0.3785609094662209}\n",
      "25 {4: 0.9640524611069474, 8: 0.7803548956780876, 0: 0.9977968379837538, 3: 0.9407515218812936, 7: 0.9449968872670755, 1: 0.9921923188401633, 5: 0.9408278660137013, 6: 0.9401792125801002, 2: 0.9361902810250334} 5 {4: 0.9166692460647872, 8: 0.7027749692669651, 0: 0.9882674698095258, 3: 0.8732980693324861, 7: 0.9102789865294652, 1: 0.9887685129308397, 5: 0.8628616118069747, 6: 0.8426209868328085, 2: 0.8468962648146452} 75 {4: 0.497070781007595, 8: 0.1780799305408517, 0: 0.7770403383703994, 3: 0.4037332742525188, 7: 0.6446874971070964, 1: 0.9100717290478253, 5: 0.282616387171082, 6: 0.3446683427184461, 2: 0.37659005589231387}\n",
      "25 {4: 0.9618582256876975, 8: 0.7734195514773636, 0: 0.9887059288928448, 3: 0.9363519736827534, 7: 0.9432510637736792, 1: 0.9921923188401633, 5: 0.9361489212650702, 6: 0.9401792125801002, 2: 0.925704583516435} 5 {4: 0.9145576292023236, 8: 0.6968282763558176, 0: 0.9792615224858215, 3: 0.8705387468774286, 7: 0.9085821440559236, 1: 0.9887685129308397, 5: 0.8584813231061286, 6: 0.8426209868328085, 2: 0.8403992595711258} 75 {4: 0.49675861953407496, 8: 0.1776274890716648, 0: 0.7693088175547664, 3: 0.4037332742525188, 7: 0.6446874971070964, 1: 0.9100717290478253, 5: 0.282616387171082, 6: 0.3446683427184461, 2: 0.37659005589231387}\n",
      "25 {4: 0.9594123857637316, 8: 0.7642533231985924, 0: 0.9887059288928448, 3: 0.9304226826267402, 7: 0.9326177024755931, 1: 0.9921923188401633, 5: 0.9314490117446118, 6: 0.9401792125801002, 2: 0.9186953040249626} 5 {4: 0.9126741461102269, 8: 0.6913108372624228, 0: 0.9792615224858215, 3: 0.8670479287590341, 7: 0.8999618835559811, 1: 0.9887685129308397, 5: 0.8540830120575711, 6: 0.8426209868328085, 2: 0.833872400125625} 75 {4: 0.4964452193237152, 8: 0.17739486043579675, 0: 0.7693088175547664, 3: 0.4037332742525188, 7: 0.643326124270067, 1: 0.9100717290478253, 5: 0.282616387171082, 6: 0.3446683427184461, 2: 0.37659005589231387}\n",
      "25 {4: 0.9459003556094869, 8: 0.7362914925151878, 0: 0.9887059288928448, 3: 0.9062040180726978, 7: 0.9058071398531423, 1: 0.9889035097706831, 5: 0.9028977841469737, 6: 0.9221396803240054, 2: 0.9186953040249626} 5 {4: 0.9020211181427338, 8: 0.6702990284320407, 0: 0.9792615224858215, 3: 0.8498425190148411, 7: 0.8772945701753305, 1: 0.9854909284656921, 5: 0.8361805139667856, 6: 0.8259057831637246, 2: 0.833872400125625} 75 {4: 0.4953343206386954, 8: 0.175223986675884, 0: 0.7693088175547664, 3: 0.39888661083288945, 7: 0.6404847253121633, 1: 0.9070186366693316, 5: 0.2803924206614012, 6: 0.34281203572982155, 2: 0.37659005589231387}\n",
      "25 {4: 0.9092905913163429, 8: 0.6214396029277678, 0: 0.9332839826038677, 3: 0.8201723852287528, 7: 0.836661137671517, 1: 0.9822716907586135, 5: 0.8300680934412943, 2: 0.8394493055824981, 6: 0.8704383181043591} 5 {4: 0.8709211048175609, 8: 0.5766218809781323, 0: 0.9332839826038677, 3: 0.7810073480992125, 7: 0.8114707327918675, 1: 0.978881860250139, 5: 0.7760805787407861, 2: 0.7733155901161988, 6: 0.7846388424665233} 75 {4: 0.4873957925922072, 8: 0.16037766246882487, 0: 0.7377629808188383, 3: 0.38093039903989345, 7: 0.6185787810648509, 1: 0.9008645843841077, 5: 0.27816027780425834, 2: 0.3639912739892159, 6: 0.3349968106526741}\n"
     ]
    }
   ],
   "source": [
    "# filter pred_all by threshold\n",
    "threshold_list = [0.1, 0.2, 0.3, 0.4, 0.5, 0.6, 0.65, 0.7, 0.8, 0.9]\n",
    "threshold_dict = {}\n",
    "for current_threshold in threshold_list:\n",
    "    _key = str(current_threshold)\n",
    "    threshold_dict[_key] = {}\n",
    "    current_pred_all = copy.deepcopy(ap_calculator.pred_map_cls)\n",
    "    for i in range(len(ap_calculator.gt_map_cls)):\n",
    "            current_pred_all[i] = [_i for _i in current_pred_all[i] if _i[-1] > current_threshold]\n",
    "    rec_25, prec_25, ap_25 = eval_det_multiprocessing(current_pred_all, ap_calculator.gt_map_cls, 0.25)\n",
    "    threshold_dict[_key]['rec_25'] = rec_25\n",
    "    threshold_dict[_key]['prec_25'] = prec_25\n",
    "    threshold_dict[_key]['ap_25'] = ap_25\n",
    "    rec_5, prec_5, ap_5 = eval_det_multiprocessing(current_pred_all, ap_calculator.gt_map_cls, 0.5)\n",
    "    threshold_dict[_key]['rec_5'] = rec_5\n",
    "    threshold_dict[_key]['prec_5'] = prec_5\n",
    "    threshold_dict[_key]['ap_5'] = ap_5\n",
    "    rec_75, prec_75, ap_75 = eval_det_multiprocessing(current_pred_all, ap_calculator.gt_map_cls, 0.75)\n",
    "    threshold_dict[_key]['rec_75'] = rec_75\n",
    "    threshold_dict[_key]['prec_75'] = prec_75\n",
    "    threshold_dict[_key]['ap_75'] = ap_75\n",
    "    print('25', threshold_dict[_key]['ap_25'], '5', threshold_dict[_key]['ap_5'], '75', threshold_dict[_key]['ap_75'])"
   ]
  },
  {
   "cell_type": "code",
   "execution_count": 99,
   "metadata": {},
   "outputs": [],
   "source": [
    "with open('data.pickle', 'wb') as file:\n",
    "    pickle.dump(threshold_dict, file)"
   ]
  },
  {
   "cell_type": "code",
   "execution_count": 5,
   "metadata": {},
   "outputs": [],
   "source": [
    "# for k, v in threshold_dict.items():\n",
    "#     for _k, _v in v['ap_75'].items():\n",
    "#         print(_k, f'{_v:.4f}')\n",
    "    # for _k, _v in v.items():\n",
    "        # print(k, _k)\n"
   ]
  },
  {
   "cell_type": "code",
   "execution_count": 6,
   "metadata": {},
   "outputs": [
    {
     "ename": "EOFError",
     "evalue": "Ran out of input",
     "output_type": "error",
     "traceback": [
      "\u001b[0;31m---------------------------------------------------------------------------\u001b[0m",
      "\u001b[0;31mEOFError\u001b[0m                                  Traceback (most recent call last)",
      "Cell \u001b[0;32mIn[6], line 2\u001b[0m\n\u001b[1;32m      1\u001b[0m \u001b[38;5;28;01mwith\u001b[39;00m \u001b[38;5;28mopen\u001b[39m(\u001b[38;5;124m'\u001b[39m\u001b[38;5;124mdata.pickle\u001b[39m\u001b[38;5;124m'\u001b[39m, \u001b[38;5;124m'\u001b[39m\u001b[38;5;124mrb\u001b[39m\u001b[38;5;124m'\u001b[39m) \u001b[38;5;28;01mas\u001b[39;00m file:\n\u001b[0;32m----> 2\u001b[0m     threshold_dict \u001b[38;5;241m=\u001b[39m \u001b[43mpickle\u001b[49m\u001b[38;5;241;43m.\u001b[39;49m\u001b[43mload\u001b[49m\u001b[43m(\u001b[49m\u001b[43mfile\u001b[49m\u001b[43m)\u001b[49m\n",
      "\u001b[0;31mEOFError\u001b[0m: Ran out of input"
     ]
    }
   ],
   "source": [
    "with open('data.pickle', 'rb') as file:\n",
    "    threshold_dict = pickle.load(file)\n",
    "    "
   ]
  },
  {
   "cell_type": "code",
   "execution_count": 17,
   "metadata": {},
   "outputs": [],
   "source": [
    "threshold_dict = {}\n",
    "threshold_dict[0.1] = {25:{2: 0.9669344078162831, 4: 0.9736649493483792, 8: 0.8013889841110993, 0: 0.9977968379837538, 3: 0.9582510218598864, 7: 0.9536158441538727, 1: 0.9921923188401633, 5: 0.9544629618463694, 6: 0.9567427084093507}, 5: {2: 0.8722270706907607, 4: 0.9238105553074238, 8: 0.7142420369325181, 0: 0.9882674698095258, 3: 0.884419058731724, 7: 0.9186577599610337, 1: 0.9887685129308397, 5: 0.8713655380109844, 6: 0.8547679176800966}, 75: {2: 0.3823843994889877, 4: 0.4984389945028695, 8: 0.17918313601001096, 0: 0.7770403383703994, 3: 0.40609353723678804, 7: 0.6473285912028993, 1: 0.9100717290478253, 5: 0.282616387171082, 6: 0.3446683427184461}}\n",
    "threshold_dict[0.2] = {25: {4: 0.9722485175535187, 8: 0.7964436115810423, 0: 0.9977968379837538, 3: 0.9563168551752244, 7: 0.9536158441538727, 1: 0.9921923188401633, 5: 0.9544629618463694, 6: 0.9504027315943053, 2: 0.9669344078162831}, 5: {4: 0.9224513213592584, 8: 0.712419792310374, 0: 0.9882674698095258, 3: 0.8832119830437546, 7: 0.9186577599610337, 1: 0.9887685129308397, 5: 0.8713655380109844, 6: 0.8489069147133363, 2: 0.8722270706907607}, 75: {4: 0.4979884923017076, 8: 0.17918313601001096, 0: 0.7770403383703994, 3: 0.4057322256917965, 7: 0.6473285912028993, 1: 0.9100717290478253, 5: 0.282616387171082, 6: 0.3446683427184461, 2: 0.3823843994889877}}\n",
    "threshold_dict[0.3] = {25: {4: 0.9715327731395645, 8: 0.7944353428032055, 0: 0.9977968379837538, 3: 0.9549829237506287, 7: 0.9519256182873803, 1: 0.9921923188401633, 5: 0.9544629618463694, 6: 0.9504027315943053, 2: 0.9636932615267073}, 5: {4: 0.921535157966383, 8: 0.711954351554793, 0: 0.9882674698095258, 3: 0.8819623584243363, 7: 0.917014484813055, 1: 0.9887685129308397, 5: 0.8713655380109844, 6: 0.8489069147133363, 2: 0.8692236918896095}, 75: {4: 0.4978365540117956, 8: 0.17897170212334806, 0: 0.7770403383703994, 3: 0.4057322256917965, 7: 0.6473285912028993, 1: 0.9100717290478253, 5: 0.282616387171082, 6: 0.3446683427184461, 2: 0.3823843994889877}}\n",
    "threshold_dict[0.4] = {25: {4: 0.9688952545732363, 8: 0.7903327319055433, 0: 0.9977968379837538, 3: 0.9529197348995504, 7: 0.9519256182873803, 1: 0.9921923188401633, 5: 0.9453979404889892, 6: 0.9470180870496754, 2: 0.9636932615267073}, 5: {4: 0.9196942927272758, 8: 0.7091065781565833, 0: 0.9882674698095258, 3: 0.8800204521777952, 7: 0.917014484813055, 1: 0.9887685129308397, 5: 0.867141522823514, 6: 0.8457795031540982, 2: 0.8692236918896095}, 75: {4: 0.4973788729856004, 8: 0.17897170212334806, 0: 0.7770403383703994, 3: 0.40495313701529806, 7: 0.6473285912028993, 1: 0.9100717290478253, 5: 0.282616387171082, 6: 0.3446683427184461, 2: 0.3823843994889877}}\n",
    "threshold_dict[0.5] = {25: {4: 0.967447393080773, 8: 0.786683511989878, 0: 0.9977968379837538, 3: 0.9472509272540597, 7: 0.9484713294380555, 1: 0.9921923188401633, 5: 0.9453979404889892, 6: 0.9401792125801002, 2: 0.9534952867923012}, 5: {4: 0.918534238495485, 8: 0.7071751543329061, 0: 0.9882674698095258, 3: 0.8773665530743481, 7: 0.9136563388517362, 1: 0.9887685129308397, 5: 0.867141522823514, 6: 0.8426209868328085, 2: 0.859782212901211}, 75: {4: 0.4972250661293336, 8: 0.17897170212334806, 0: 0.7770403383703994, 3: 0.4045543228697486, 7: 0.6460180831237199, 1: 0.9100717290478253, 5: 0.282616387171082, 6: 0.3446683427184461, 2: 0.3785609094662209}}\n",
    "threshold_dict[0.6] = {25: {4: 0.9640524611069474, 8: 0.7803548956780876, 0: 0.9977968379837538, 3: 0.9407515218812936, 7: 0.9449968872670755, 1: 0.9921923188401633, 5: 0.9408278660137013, 6: 0.9401792125801002, 2: 0.9361902810250334}, 5: {4: 0.9166692460647872, 8: 0.7027749692669651, 0: 0.9882674698095258, 3: 0.8732980693324861, 7: 0.9102789865294652, 1: 0.9887685129308397, 5: 0.8628616118069747, 6: 0.8426209868328085, 2: 0.8468962648146452}, 75: {4: 0.497070781007595, 8: 0.1780799305408517, 0: 0.7770403383703994, 3: 0.4037332742525188, 7: 0.6446874971070964, 1: 0.9100717290478253, 5: 0.282616387171082, 6: 0.3446683427184461, 2: 0.37659005589231387}}\n",
    "threshold_dict[0.65] = {25: {4: 0.9618582256876975, 8: 0.7734195514773636, 0: 0.9887059288928448, 3: 0.9363519736827534, 7: 0.9432510637736792, 1: 0.9921923188401633, 5: 0.9361489212650702, 6: 0.9401792125801002, 2: 0.925704583516435}, 5: {4: 0.9145576292023236, 8: 0.6968282763558176, 0: 0.9792615224858215, 3: 0.8705387468774286, 7: 0.9085821440559236, 1: 0.9887685129308397, 5: 0.8584813231061286, 6: 0.8426209868328085, 2: 0.8403992595711258}, 75: {4: 0.49675861953407496, 8: 0.1776274890716648, 0: 0.7693088175547664, 3: 0.4037332742525188, 7: 0.6446874971070964, 1: 0.9100717290478253, 5: 0.282616387171082, 6: 0.3446683427184461, 2: 0.37659005589231387}}\n",
    "threshold_dict[0.7] = {25: {4: 0.9594123857637316, 8: 0.7642533231985924, 0: 0.9887059288928448, 3: 0.9304226826267402, 7: 0.9326177024755931, 1: 0.9921923188401633, 5: 0.9314490117446118, 6: 0.9401792125801002, 2: 0.9186953040249626}, 5: {4: 0.9126741461102269, 8: 0.6913108372624228, 0: 0.9792615224858215, 3: 0.8670479287590341, 7: 0.8999618835559811, 1: 0.9887685129308397, 5: 0.8540830120575711, 6: 0.8426209868328085, 2: 0.833872400125625}, 75: {4: 0.4964452193237152, 8: 0.17739486043579675, 0: 0.7693088175547664, 3: 0.4037332742525188, 7: 0.643326124270067, 1: 0.9100717290478253, 5: 0.282616387171082, 6: 0.3446683427184461, 2: 0.37659005589231387}}\n",
    "threshold_dict[0.8] = {25: {4: 0.9459003556094869, 8: 0.7362914925151878, 0: 0.9887059288928448, 3: 0.9062040180726978, 7: 0.9058071398531423, 1: 0.9889035097706831, 5: 0.9028977841469737, 6: 0.9221396803240054, 2: 0.9186953040249626}, 5: {4: 0.9020211181427338, 8: 0.6702990284320407, 0: 0.9792615224858215, 3: 0.8498425190148411, 7: 0.8772945701753305, 1: 0.9854909284656921, 5: 0.8361805139667856, 6: 0.8259057831637246, 2: 0.833872400125625}, 75: {4: 0.4953343206386954, 8: 0.175223986675884, 0: 0.7693088175547664, 3: 0.39888661083288945, 7: 0.6404847253121633, 1: 0.9070186366693316, 5: 0.2803924206614012, 6: 0.34281203572982155, 2: 0.37659005589231387}}\n",
    "threshold_dict[0.9] = {25: {4: 0.9092905913163429, 8: 0.6214396029277678, 0: 0.9332839826038677, 3: 0.8201723852287528, 7: 0.836661137671517, 1: 0.9822716907586135, 5: 0.8300680934412943, 2: 0.8394493055824981, 6: 0.8704383181043591}, 5: {4: 0.8709211048175609, 8: 0.5766218809781323, 0: 0.9332839826038677, 3: 0.7810073480992125, 7: 0.8114707327918675, 1: 0.978881860250139, 5: 0.7760805787407861, 2: 0.7733155901161988, 6: 0.7846388424665233}, 75: {4: 0.4873957925922072, 8: 0.16037766246882487, 0: 0.7377629808188383, 3: 0.38093039903989345, 7: 0.6185787810648509, 1: 0.9008645843841077, 5: 0.27816027780425834, 2: 0.3639912739892159, 6: 0.3349968106526741}}"
   ]
  },
  {
   "cell_type": "code",
   "execution_count": 22,
   "metadata": {},
   "outputs": [
    {
     "name": "stdout",
     "output_type": "stream",
     "text": [
      "{2: 0.3824, 4: 0.4984, 8: 0.1792, 0: 0.777, 3: 0.4061, 7: 0.6473, 1: 0.9101, 5: 0.2826, 6: 0.3447} 0.49197777777777774\n",
      "{4: 0.498, 8: 0.1792, 0: 0.777, 3: 0.4057, 7: 0.6473, 1: 0.9101, 5: 0.2826, 6: 0.3447, 2: 0.3824} 0.4918888888888888\n",
      "{4: 0.4978, 8: 0.179, 0: 0.777, 3: 0.4057, 7: 0.6473, 1: 0.9101, 5: 0.2826, 6: 0.3447, 2: 0.3824} 0.4918444444444444\n",
      "{4: 0.4974, 8: 0.179, 0: 0.777, 3: 0.405, 7: 0.6473, 1: 0.9101, 5: 0.2826, 6: 0.3447, 2: 0.3824} 0.49172222222222217\n",
      "{4: 0.4972, 8: 0.179, 0: 0.777, 3: 0.4046, 7: 0.646, 1: 0.9101, 5: 0.2826, 6: 0.3447, 2: 0.3786} 0.49108888888888885\n",
      "{4: 0.4971, 8: 0.1781, 0: 0.777, 3: 0.4037, 7: 0.6447, 1: 0.9101, 5: 0.2826, 6: 0.3447, 2: 0.3766} 0.4905111111111111\n",
      "{4: 0.4968, 8: 0.1776, 0: 0.7693, 3: 0.4037, 7: 0.6447, 1: 0.9101, 5: 0.2826, 6: 0.3447, 2: 0.3766} 0.4895666666666666\n",
      "{4: 0.4964, 8: 0.1774, 0: 0.7693, 3: 0.4037, 7: 0.6433, 1: 0.9101, 5: 0.2826, 6: 0.3447, 2: 0.3766} 0.4893444444444444\n",
      "{4: 0.4953, 8: 0.1752, 0: 0.7693, 3: 0.3989, 7: 0.6405, 1: 0.907, 5: 0.2804, 6: 0.3428, 2: 0.3766} 0.48733333333333323\n",
      "{4: 0.4874, 8: 0.1604, 0: 0.7378, 3: 0.3809, 7: 0.6186, 1: 0.9009, 5: 0.2782, 2: 0.364, 6: 0.335} 0.47368888888888894\n"
     ]
    }
   ],
   "source": [
    "decimal_places = 4\n",
    "for k, v in threshold_dict.items():\n",
    "    temp_dict = v[75]\n",
    "    temp_dict = {key: round(value, decimal_places) for key, value in temp_dict.items()}\n",
    "    print(temp_dict, sum(temp_dict.values())/ len(temp_dict))"
   ]
  },
  {
   "cell_type": "code",
   "execution_count": null,
   "metadata": {},
   "outputs": [],
   "source": []
  }
 ],
 "metadata": {
  "kernelspec": {
   "display_name": "Python 3 (ipykernel)",
   "language": "python",
   "name": "python3"
  },
  "language_info": {
   "codemirror_mode": {
    "name": "ipython",
    "version": 3
   },
   "file_extension": ".py",
   "mimetype": "text/x-python",
   "name": "python",
   "nbconvert_exporter": "python",
   "pygments_lexer": "ipython3",
   "version": "3.8.10"
  }
 },
 "nbformat": 4,
 "nbformat_minor": 4
}
