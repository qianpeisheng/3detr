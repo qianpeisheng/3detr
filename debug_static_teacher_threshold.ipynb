{
 "cells": [
  {
   "cell_type": "code",
   "execution_count": 31,
   "metadata": {},
   "outputs": [],
   "source": [
    "import os\n",
    "import sys\n",
    "import pickle\n",
    "\n",
    "import numpy as np\n",
    "import torch\n",
    "from torch.multiprocessing import set_start_method\n",
    "from torch.utils.data import DataLoader, DistributedSampler\n",
    "\n",
    "# 3DETR codebase specific imports\n",
    "from datasets import build_dataset_base\n",
    "from engine import evaluate, train_one_epoch, evaluate_incremental\n",
    "from models import build_model\n",
    "from optimizer import build_optimizer\n",
    "from criterion import build_criterion\n",
    "from utils.dist import init_distributed, is_distributed, is_primary, get_rank, barrier\n",
    "from utils.misc import my_worker_init_fn\n",
    "from utils.io import save_checkpoint, resume_if_possible, resume_if_possible_SDCoT\n",
    "from utils.logger import Logger\n",
    "from utils.ap_calculator import APCalculator, get_ap_config_dict, parse_predictions_SDCoT, get_ap_config_dict"
   ]
  },
  {
   "cell_type": "code",
   "execution_count": 32,
   "metadata": {},
   "outputs": [],
   "source": [
    "def test_model(args, model, model_no_ddp, criterion, dataset_config, dataloaders):\n",
    "    if args.test_ckpt is None or not os.path.isfile(args.test_ckpt):\n",
    "        f\"Please specify a test checkpoint using --test_ckpt. Found invalid value {args.test_ckpt}\"\n",
    "        sys.exit(1)\n",
    "\n",
    "    sd = torch.load(args.test_ckpt, map_location=torch.device(\"cpu\"))\n",
    "    model_no_ddp.load_state_dict(sd[\"model\"])\n",
    "    logger = Logger()\n",
    "    criterion = None  # do not compute loss for speed-up; Comment out to see test loss\n",
    "    epoch = -1\n",
    "    curr_iter = 0\n",
    "    ap_calculator = evaluate(\n",
    "        args,\n",
    "        epoch,\n",
    "        model,\n",
    "        criterion,\n",
    "        dataset_config,\n",
    "        dataloaders[\"test\"],\n",
    "        logger,\n",
    "        curr_iter,\n",
    "    )\n",
    "    metrics = ap_calculator.compute_metrics()\n",
    "    metric_str = ap_calculator.metrics_to_str(metrics)\n",
    "    if is_primary():\n",
    "        print(\"==\" * 10)\n",
    "        print(f\"Test model; Metrics {metric_str}\")\n",
    "        print(\"==\" * 10)"
   ]
  },
  {
   "cell_type": "code",
   "execution_count": 33,
   "metadata": {},
   "outputs": [
    {
     "name": "stdout",
     "output_type": "stream",
     "text": [
      "1\n"
     ]
    }
   ],
   "source": [
    "class TempArgs:\n",
    "    def __init__(self) -> None:\n",
    "        self.dataset_name = 'scannet'\n",
    "        self.num_base_class = 9\n",
    "        self.num_novel_class = 9\n",
    "        self.dataset_root_dir = None\n",
    "        self.meta_data_dir = None\n",
    "        self.use_color = False\n",
    "        self.seed = 42\n",
    "        # self.checkpoint_dir = 'ckpts_scannet/debug_test_notebook'\n",
    "        # self.checkpoint_name = 'checkpoint_best_6480.pth'\n",
    "        self.test_ckpt = 'ckpts_scannet/debug_test_notebook/checkpoint_best_6480.pth'\n",
    "        self.enc_dim = 256\n",
    "        self.dec_dim = 512\n",
    "        self.nqueries = 256\n",
    "        self.mlp_dropout = 0.3\n",
    "        self.model_name = '3detr'\n",
    "        self.preenc_npoints = 2048\n",
    "        self.enc_type = 'masked'\n",
    "        self.enc_nhead = 4\n",
    "        self.enc_ffn_dim = 128\n",
    "        self.enc_dropout = 0.1\n",
    "        self.enc_activation = 'relu'\n",
    "        self.enc_nlayers = 3\n",
    "\n",
    "        # define for the decoder\n",
    "        self.dec_nhead = 4\n",
    "        self.dec_ffn_dim = 256\n",
    "        self.dec_dropout = 0.1\n",
    "        self.dec_nlayers = 8\n",
    "        self.dec_dim = 256\n",
    "\n",
    "        # criterion\n",
    "        self.matcher_cls_cost = 1\n",
    "        self.matcher_giou_cost = 2\n",
    "        self.batchsize_per_gpu = 16\n",
    "        self.dataset_num_workers = 0\n",
    "        self.log_every = 10\n",
    "\n",
    "_args = TempArgs()\n",
    "print(_args.matcher_cls_cost)"
   ]
  },
  {
   "cell_type": "code",
   "execution_count": 34,
   "metadata": {},
   "outputs": [
    {
     "name": "stdout",
     "output_type": "stream",
     "text": [
      "kept 1199 scans out of 1201\n",
      "kept 312 scans out of 312\n"
     ]
    }
   ],
   "source": [
    "torch.cuda.set_device(0)\n",
    "np.random.seed(42)\n",
    "torch.manual_seed(42)\n",
    "if torch.cuda.is_available():\n",
    "    torch.cuda.manual_seed_all(42)\n",
    "\n",
    "datasets, dataset_config = build_dataset_base(_args)\n",
    "# model, _ = build_model(_args, dataset_config)\n",
    "# model = model.cuda()\n",
    "# model_no_ddp = model\n",
    "\n",
    "ap_calculator = APCalculator(dataset_config=dataset_config,\n",
    "        ap_iou_thresh=[0.25, 0.5],\n",
    "        class2type_map=dataset_config.class2type,\n",
    "        exact_eval=True)\n",
    "\n",
    "# resume_if_possible(\n",
    "#     checkpoint_dir=_args.checkpoint_dir, model_no_ddp=model, optimizer=None, checkpoint_name=_args.checkpoint_name\n",
    "# )\n",
    "\n",
    "dataloaders = {}\n",
    "split = \"test\"\n",
    "sampler = torch.utils.data.SequentialSampler(datasets[split])\n",
    "\n",
    "dataloaders[split] = DataLoader(\n",
    "    datasets[split],\n",
    "    sampler=sampler,\n",
    "    batch_size=_args.batchsize_per_gpu,\n",
    "    num_workers=_args.dataset_num_workers,\n",
    "    worker_init_fn=my_worker_init_fn,\n",
    ")\n",
    "dataloaders[split + \"_sampler\"] = sampler\n",
    "\n",
    "criterion = None  # faster evaluation"
   ]
  },
  {
   "cell_type": "code",
   "execution_count": null,
   "metadata": {},
   "outputs": [],
   "source": [
    "# Set class threshold"
   ]
  },
  {
   "cell_type": "code",
   "execution_count": 35,
   "metadata": {},
   "outputs": [
    {
     "name": "stdout",
     "output_type": "stream",
     "text": [
      "Evaluate ; Batch [0/20];  Iter time 4.91; Mem 5217.60MB\n",
      "Evaluate ; Batch [10/20];  Iter time 4.90; Mem 5225.33MB\n",
      "====================\n",
      "Test model; Metrics mAP0.25, mAP0.50: 65.04, 45.69\n",
      "AR0.25, AR0.50: 77.99, 58.35\n",
      "-----\n",
      "IOU Thresh=0.25\n",
      "bathtub Average Precision: 89.65\n",
      "bed Average Precision: 79.93\n",
      "bookshelf Average Precision: 51.00\n",
      "cabinet Average Precision: 47.01\n",
      "chair Average Precision: 89.00\n",
      "counter Average Precision: 57.35\n",
      "curtain Average Precision: 51.37\n",
      "desk Average Precision: 71.77\n",
      "door Average Precision: 48.30\n",
      "bathtub Recall: 90.32\n",
      "bed Recall: 88.89\n",
      "bookshelf Recall: 70.13\n",
      "cabinet Recall: 69.09\n",
      "chair Recall: 91.23\n",
      "counter Recall: 80.77\n",
      "curtain Recall: 64.18\n",
      "desk Recall: 85.83\n",
      "door Recall: 61.46\n",
      "-----\n",
      "IOU Thresh=0.5\n",
      "bathtub Average Precision: 75.88\n",
      "bed Average Precision: 73.45\n",
      "bookshelf Average Precision: 43.81\n",
      "cabinet Average Precision: 18.03\n",
      "chair Average Precision: 74.53\n",
      "counter Average Precision: 20.94\n",
      "curtain Average Precision: 29.17\n",
      "desk Average Precision: 46.48\n",
      "door Average Precision: 28.96\n",
      "bathtub Recall: 77.42\n",
      "bed Recall: 75.31\n",
      "bookshelf Recall: 59.74\n",
      "cabinet Recall: 37.90\n",
      "chair Recall: 80.41\n",
      "counter Recall: 40.38\n",
      "curtain Recall: 43.28\n",
      "desk Recall: 68.50\n",
      "door Recall: 42.18\n",
      "====================\n"
     ]
    }
   ],
   "source": [
    "test_model(_args, model, model_no_ddp, criterion, dataset_config, dataloaders)"
   ]
  },
  {
   "cell_type": "code",
   "execution_count": null,
   "metadata": {},
   "outputs": [],
   "source": []
  }
 ],
 "metadata": {
  "kernelspec": {
   "display_name": "venv",
   "language": "python",
   "name": "venv"
  },
  "language_info": {
   "codemirror_mode": {
    "name": "ipython",
    "version": 3
   },
   "file_extension": ".py",
   "mimetype": "text/x-python",
   "name": "python",
   "nbconvert_exporter": "python",
   "pygments_lexer": "ipython3",
   "version": "3.8.10"
  }
 },
 "nbformat": 4,
 "nbformat_minor": 4
}
