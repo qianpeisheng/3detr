{
 "cells": [
  {
   "cell_type": "code",
   "execution_count": 6,
   "metadata": {},
   "outputs": [],
   "source": [
    "import numpy as np\n",
    "import torch\n",
    "import os"
   ]
  },
  {
   "cell_type": "code",
   "execution_count": 7,
   "metadata": {},
   "outputs": [],
   "source": [
    "# Load GT labels\n",
    "self_data_path = '/home/peisheng/3detr/scannet_data/scannet_all'\n",
    "scan_name = 'scene0191_00'\n",
    "instance_bboxes = np.load(os.path.join(self_data_path, scan_name) + \"_bbox.npy\")"
   ]
  },
  {
   "cell_type": "code",
   "execution_count": 8,
   "metadata": {},
   "outputs": [
    {
     "data": {
      "text/plain": [
       "array([[ 1.94911337,  2.54922485,  1.07194901,  0.17460835,  1.1070751 ,\n",
       "         1.39844286,  8.        ],\n",
       "       [ 1.06101453, -0.36034763,  0.43245816,  1.69858456,  0.86210084,\n",
       "         0.87308061,  7.        ],\n",
       "       [ 1.98960567,  0.49231637,  0.89994586,  0.31689119,  0.87098539,\n",
       "         1.00589061,  9.        ],\n",
       "       [ 0.21108061, -0.36262605,  0.21233006,  0.22650719,  0.32937795,\n",
       "         0.45839486, 39.        ],\n",
       "       [ 1.27606463, -0.55551457,  0.26375592,  0.64525551,  0.43832135,\n",
       "         0.47023377,  5.        ],\n",
       "       [ 1.97557068, -1.19884264,  0.8656804 ,  0.26435578,  0.67966241,\n",
       "         1.12072575,  9.        ],\n",
       "       [ 2.03211308, -2.61495972,  0.35489422,  0.22199845,  0.49363828,\n",
       "         0.15295288,  9.        ]])"
      ]
     },
     "execution_count": 8,
     "metadata": {},
     "output_type": "execute_result"
    }
   ],
   "source": [
    "instance_bboxes"
   ]
  },
  {
   "cell_type": "code",
   "execution_count": 23,
   "metadata": {},
   "outputs": [],
   "source": [
    "# Convert pseudo label to instance bbox. This is verified to be correct.\n",
    "def pseudo_label_to_instance_bbox(pseudo_label):\n",
    "    # pseudo_label is a list of length 3. The first element is the class index.\n",
    "    # The second element is an array of (8, 3), which is the x,y,z coordinates of 8 corners of the bounding box.\n",
    "    # The third element is the probality of the class.\n",
    "\n",
    "    # PL to BB: 0 -> 0, -1 -> 2, 2 -> 1 \n",
    "    instance_bbox = np.zeros((7, ))\n",
    "    instance_bbox[0] = pseudo_label[1][:, 0].mean(axis=0)\n",
    "    # swap instance_bbox[1] and instance_bbox[2], and time -1 to instance_bbox[2]\n",
    "    # to convert from SDCoT format to 3DETR format\n",
    "    instance_bbox[1] = pseudo_label[1][:, 2].mean(axis=0)\n",
    "    instance_bbox[2] = pseudo_label[1][:, 1].mean(axis=0) * -1\n",
    "\n",
    "    # dx is the same, but dy and dz are swapped\n",
    "    instance_bbox[3] = pseudo_label[1][:, 0].max(\n",
    "        axis=0) - pseudo_label[1][:, 0].min(axis=0)\n",
    "    instance_bbox[4] = pseudo_label[1][:, 2].max(\n",
    "        axis=0) - pseudo_label[1][:, 2].min(axis=0)\n",
    "    instance_bbox[5] = pseudo_label[1][:, 1].max(\n",
    "        axis=0) - pseudo_label[1][:, 1].min(axis=0)\n",
    "    \n",
    "    instance_bbox[6] = pseudo_label[0]\n",
    "    return instance_bbox"
   ]
  },
  {
   "cell_type": "code",
   "execution_count": 24,
   "metadata": {},
   "outputs": [],
   "source": [
    "# Convert instance_bboxes to pseudo labels\n",
    "def instance_box_to_pseudo_label(instance_box):\n",
    "    # instance_box is a numpy array of shape (7, )\n",
    "    # The first element is the x coordinate of the center of the bounding box.\n",
    "    # The second element is the y coordinate of the center of the bounding box.\n",
    "    # The third element is the z coordinate of the center of the bounding box.\n",
    "    # The fourth element is the x-axis length of the bounding box. (full length not half length)\n",
    "    # The fifth element is the y-axis length of the bounding box. (full length not half length)\n",
    "    # The sixth element is the z-axis length of the bounding box. (full length not half length)\n",
    "    # The seventh element is the class index.\n",
    "\n",
    "    # BB to PL: 0 -> 0, -2 -> 1, 1 -> 2\n",
    "    pseudo_label = []\n",
    "    pseudo_label.append(instance_box[6])\n",
    "    pseudo_label.append(np.zeros((8, 3)))\n",
    "    # pseudo_label[1][:, 0] is the x coordinates of the 8 corners of the bounding box. i.e., x0 and x1.\n",
    "    pseudo_label[1][:, 0] = np.array([instance_box[0] - instance_box[3] / 2, instance_box[0] + instance_box[3] / 2, instance_box[0] + instance_box[3] / 2, instance_box[0] - instance_box[3] / 2, \n",
    "                                      instance_box[0] - instance_box[3] / 2, instance_box[0] + instance_box[3] / 2, instance_box[0] + instance_box[3] / 2, instance_box[0] - instance_box[3] / 2])\n",
    "    # swap instance_box[1] and instance_box[2], and time -1 to instance_box[2]\n",
    "\n",
    "    pseudo_label[1][:, 1] = -1 * np.array([instance_box[2] - instance_box[5] / 2, instance_box[2] - instance_box[5] / 2, instance_box[2] + instance_box[5] / 2, instance_box[2] + instance_box[5] / 2, \n",
    "                                      instance_box[2] - instance_box[5] / 2, instance_box[2] - instance_box[5] / 2, instance_box[2] + instance_box[5] / 2, instance_box[2] + instance_box[5] / 2])\n",
    "    pseudo_label[1][:, 2] = np.array([(instance_box[1] - instance_box[4] / 2), instance_box[1] - instance_box[4] / 2, instance_box[1] - instance_box[4] / 2, instance_box[1] - instance_box[4] / 2, \n",
    "                                      instance_box[1] + instance_box[4] / 2, instance_box[1] + instance_box[4] / 2, instance_box[1] + instance_box[4] / 2, instance_box[1] + instance_box[4] / 2])\n",
    "    pseudo_label.append(1) # probability of the class is 1 for gound truth\n",
    "\n",
    "    return pseudo_label"
   ]
  },
  {
   "cell_type": "code",
   "execution_count": 25,
   "metadata": {},
   "outputs": [
    {
     "name": "stdout",
     "output_type": "stream",
     "text": [
      "[8.0, array([[ 1.86180919, -0.37272757,  1.99568731],\n",
      "       [ 2.03641754, -0.37272757,  1.99568731],\n",
      "       [ 2.03641754, -1.77117044,  1.99568731],\n",
      "       [ 1.86180919, -1.77117044,  1.99568731],\n",
      "       [ 1.86180919, -0.37272757,  3.1027624 ],\n",
      "       [ 2.03641754, -0.37272757,  3.1027624 ],\n",
      "       [ 2.03641754, -1.77117044,  3.1027624 ],\n",
      "       [ 1.86180919, -1.77117044,  3.1027624 ]]), 1]\n"
     ]
    }
   ],
   "source": [
    "pseudo_label = instance_box_to_pseudo_label(instance_bboxes[0])\n",
    "print(pseudo_label)"
   ]
  },
  {
   "cell_type": "code",
   "execution_count": 26,
   "metadata": {},
   "outputs": [
    {
     "name": "stdout",
     "output_type": "stream",
     "text": [
      "[1.94911337 2.54922485 1.07194901 0.17460835 1.1070751  1.39844286\n",
      " 8.        ]\n"
     ]
    }
   ],
   "source": [
    "instance_box_from_pseudo_label = pseudo_label_to_instance_bbox(pseudo_label)\n",
    "print(instance_box_from_pseudo_label)"
   ]
  },
  {
   "cell_type": "code",
   "execution_count": 27,
   "metadata": {},
   "outputs": [
    {
     "name": "stdout",
     "output_type": "stream",
     "text": [
      "[1.94911337 2.54922485 1.07194901 0.17460835 1.1070751  1.39844286\n",
      " 8.        ]\n"
     ]
    }
   ],
   "source": [
    "print(instance_bboxes[0])"
   ]
  },
  {
   "cell_type": "code",
   "execution_count": 28,
   "metadata": {},
   "outputs": [
    {
     "name": "stdout",
     "output_type": "stream",
     "text": [
      "True\n"
     ]
    }
   ],
   "source": [
    "# check if the conversion is correct\n",
    "print(np.allclose(instance_box_from_pseudo_label, instance_bboxes[0]))"
   ]
  },
  {
   "cell_type": "code",
   "execution_count": null,
   "metadata": {},
   "outputs": [],
   "source": []
  }
 ],
 "metadata": {
  "kernelspec": {
   "display_name": "venv",
   "language": "python",
   "name": "python3"
  },
  "language_info": {
   "codemirror_mode": {
    "name": "ipython",
    "version": 3
   },
   "file_extension": ".py",
   "mimetype": "text/x-python",
   "name": "python",
   "nbconvert_exporter": "python",
   "pygments_lexer": "ipython3",
   "version": "3.8.10"
  }
 },
 "nbformat": 4,
 "nbformat_minor": 2
}
