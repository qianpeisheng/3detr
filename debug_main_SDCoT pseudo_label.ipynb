{
 "cells": [
  {
   "cell_type": "code",
   "execution_count": 1,
   "metadata": {},
   "outputs": [],
   "source": [
    "import argparse\n",
    "import os\n",
    "import sys\n",
    "import pickle\n",
    "\n",
    "import numpy as np\n",
    "import torch\n",
    "from torch.multiprocessing import set_start_method\n",
    "from torch.utils.data import DataLoader, DistributedSampler\n",
    "\n",
    "# 3DETR codebase specific imports\n",
    "from datasets import build_dataset_SDCoT\n",
    "from engine import evaluate, train_one_epoch, evaluate_incremental\n",
    "from models import build_model\n",
    "from optimizer import build_optimizer\n",
    "from criterion import build_criterion\n",
    "from utils.dist import init_distributed, is_distributed, is_primary, get_rank, barrier\n",
    "from utils.misc import my_worker_init_fn\n",
    "from utils.io import save_checkpoint, resume_if_possible, resume_if_possible_SDCoT\n",
    "from utils.logger import Logger\n",
    "from utils.ap_calculator import APCalculator, get_ap_config_dict, parse_predictions_SDCoT, get_ap_config_dict"
   ]
  },
  {
   "cell_type": "code",
   "execution_count": 2,
   "metadata": {},
   "outputs": [],
   "source": [
    "class TempArgs:\n",
    "    def __init__(self) -> None:\n",
    "        self.dataset_name = 'scannet'\n",
    "        self.num_base_class = 9\n",
    "        self.num_novel_class = 9\n",
    "        self.dataset_root_dir = None\n",
    "        self.meta_data_dir = None\n",
    "        self.use_color = False\n",
    "        self.seed = 42\n",
    "        self.checkpoint_dir = 'ckpts_scannet/scannet_SDCoT_9_9'\n",
    "        self.checkpoint_name = 'checkpoint_best_6198.pth'\n",
    "        self.enc_dim = 256\n",
    "        self.dec_dim = 512\n",
    "        self.nqueries = 256\n",
    "        self.mlp_dropout = 0.3\n",
    "        self.model_name = '3detr'\n",
    "        self.preenc_npoints = 2048\n",
    "        self.enc_type = 'vanilla'\n",
    "        self.enc_nhead = 4\n",
    "        self.enc_ffn_dim = 128\n",
    "        self.enc_dropout = 0.1\n",
    "        self.enc_activation = 'relu'\n",
    "        self.enc_nlayers = 3\n",
    "\n",
    "        # define for the decoder\n",
    "        self.dec_nhead = 4\n",
    "        self.dec_ffn_dim = 256\n",
    "        self.dec_dropout = 0.1\n",
    "        self.dec_nlayers = 8\n",
    "        self.dec_dim = 256\n",
    "\n",
    "\n",
    "        \n",
    "_args = TempArgs()"
   ]
  },
  {
   "cell_type": "code",
   "execution_count": 3,
   "metadata": {},
   "outputs": [
    {
     "name": "stdout",
     "output_type": "stream",
     "text": [
      "kept 1199 scans out of 1201\n",
      "kept 312 scans out of 312\n",
      "True\n",
      "last_checkpoint ckpts_scannet/scannet_SDCoT_9_9/checkpoint_best_6198.pth\n",
      "resuming ............\n",
      "Found checkpoint at 650. Resuming.\n",
      "optimizer is None\n",
      "Loaded model and optimizer state at 650. Loaded best val metrics so far.\n"
     ]
    }
   ],
   "source": [
    "        # init_distributed(\n",
    "        #     local_rank,\n",
    "        #     global_rank=local_rank,\n",
    "        #     world_size=args.ngpus,\n",
    "        #     dist_url=args.dist_url,\n",
    "        #     dist_backend=\"nccl\",\n",
    "        # )\n",
    "\n",
    "torch.cuda.set_device(0)\n",
    "np.random.seed(42)\n",
    "torch.manual_seed(42)\n",
    "if torch.cuda.is_available():\n",
    "    torch.cuda.manual_seed_all(42)\n",
    "\n",
    "# For incremental learning, the train and test dataset are different,\n",
    "# The train dataset only contains NOVEL classes.\n",
    "# The test dataset contains both base and novel classes.\n",
    "datasets, dataset_config_train, dataset_config_val, dataset_config_base = build_dataset_SDCoT(_args)\n",
    "\n",
    "# disable augment for the train set\n",
    "# datasets['train'].augment = False\n",
    "print(datasets['train'].augment)\n",
    "\n",
    "ap_calculator = APCalculator(dataset_config=dataset_config_val,\n",
    "        ap_iou_thresh=[0.25, 0.5],\n",
    "        class2type_map=dataset_config_val.class2type,\n",
    "        exact_eval=True)\n",
    "\n",
    "# define the base detection model and load weights\n",
    "base_detection_model, _ = build_model(_args, dataset_config_base)\n",
    "base_detection_model = base_detection_model.cuda(0) # TODO add ddp\n",
    "resume_if_possible(\n",
    "    checkpoint_dir=_args.checkpoint_dir, model_no_ddp=base_detection_model, optimizer=None, checkpoint_name=_args.checkpoint_name\n",
    ")\n",
    "\n",
    "# For the train set, set the base detector\n",
    "datasets['train'].set_base_detector(base_detection_model)\n",
    "ap_config_dict = get_ap_config_dict(\n",
    "    dataset_config=dataset_config_train, remove_empty_box=True\n",
    ")\n",
    "# set set_ap_config_dict\n",
    "datasets['train'].set_ap_config_dict(ap_config_dict)\n",
    "# pseudo_labels, instance_bboxes = datasets['train'][0]\n",
    "# ret_ = datasets['train'][0]\n",
    "# temp_input = datasets['train'][0]\n",
    "\n",
    "# temp_input['point_clouds'] = torch.tensor(temp_input['point_clouds']).cuda(0)\n",
    "# parsed_prediction = datasets['train'].generate_pseudo_labels(temp_input['point_clouds'], temp_input['point_cloud_dims_min'], temp_input['point_cloud_dims_max'])"
   ]
  },
  {
   "cell_type": "code",
   "execution_count": 4,
   "metadata": {},
   "outputs": [],
   "source": [
    "ret_ = datasets['train'][1]"
   ]
  },
  {
   "cell_type": "code",
   "execution_count": 5,
   "metadata": {},
   "outputs": [
    {
     "data": {
      "text/plain": [
       "dict_keys(['point_clouds', 'gt_box_corners', 'gt_box_centers', 'gt_box_centers_normalized', 'gt_angle_class_label', 'gt_angle_residual_label', 'gt_box_sem_cls_label', 'gt_box_present', 'scan_idx', 'scan_name', 'num_pseudo_label', 'pcl_color', 'gt_box_sizes', 'pseudo_labels', 'gt_box_sizes_normalized', 'gt_box_angles', 'point_cloud_dims_min', 'point_cloud_dims_max'])"
      ]
     },
     "execution_count": 5,
     "metadata": {},
     "output_type": "execute_result"
    }
   ],
   "source": [
    "ret_.keys()"
   ]
  },
  {
   "cell_type": "code",
   "execution_count": 6,
   "metadata": {},
   "outputs": [
    {
     "name": "stdout",
     "output_type": "stream",
     "text": [
      "[-2.0719187  -2.9942734  -0.08573014] [1.4730971 4.2706923 1.9147877]\n"
     ]
    }
   ],
   "source": [
    "print(ret_['point_cloud_dims_min'], ret_['point_cloud_dims_max'])"
   ]
  },
  {
   "cell_type": "code",
   "execution_count": 7,
   "metadata": {},
   "outputs": [
    {
     "data": {
      "text/plain": [
       "array([ 4,  4,  8,  4,  4, 15,  9,  8, 17, 17, 17,  0,  0,  0,  0,  0,  0,\n",
       "        0,  0,  0,  0,  0,  0,  0,  0,  0,  0,  0,  0,  0,  0,  0,  0,  0,\n",
       "        0,  0,  0,  0,  0,  0,  0,  0,  0,  0,  0,  0,  0,  0,  0,  0,  0,\n",
       "        0,  0,  0,  0,  0,  0,  0,  0,  0,  0,  0,  0,  0])"
      ]
     },
     "execution_count": 7,
     "metadata": {},
     "output_type": "execute_result"
    }
   ],
   "source": [
    "ret_['gt_box_sem_cls_label']"
   ]
  },
  {
   "cell_type": "code",
   "execution_count": 8,
   "metadata": {},
   "outputs": [
    {
     "data": {
      "text/plain": [
       "(4,\n",
       " array([[-0.8592875 ,  0.02066854,  1.5023022 ],\n",
       "        [-0.8592875 ,  0.02066854,  0.88861656],\n",
       "        [-1.4650567 ,  0.02066854,  0.88861656],\n",
       "        [-1.4650567 ,  0.02066854,  1.5023022 ],\n",
       "        [-0.8592875 , -0.78500426,  1.5023022 ],\n",
       "        [-0.8592875 , -0.78500426,  0.88861656],\n",
       "        [-1.4650567 , -0.78500426,  0.88861656],\n",
       "        [-1.4650567 , -0.78500426,  1.5023022 ]], dtype=float32),\n",
       " 0.9952314)"
      ]
     },
     "execution_count": 8,
     "metadata": {},
     "output_type": "execute_result"
    }
   ],
   "source": [
    "ret_['pseudo_labels'][0][0]"
   ]
  },
  {
   "cell_type": "code",
   "execution_count": 10,
   "metadata": {},
   "outputs": [
    {
     "data": {
      "text/plain": [
       "array([[-0.89189583,  0.02096212,  1.4969053 ],\n",
       "       [-0.89189583,  0.02096212,  0.9342032 ],\n",
       "       [-1.4802303 ,  0.02096212,  0.9342032 ],\n",
       "       [-1.4802303 ,  0.02096212,  1.4969053 ],\n",
       "       [-0.89189583, -0.78778917,  1.4969053 ],\n",
       "       [-0.89189583, -0.78778917,  0.9342032 ],\n",
       "       [-1.4802303 , -0.78778917,  0.9342032 ],\n",
       "       [-1.4802303 , -0.78778917,  1.4969053 ]], dtype=float32)"
      ]
     },
     "execution_count": 10,
     "metadata": {},
     "output_type": "execute_result"
    }
   ],
   "source": [
    "ret_['gt_box_corners'][3]"
   ]
  },
  {
   "cell_type": "code",
   "execution_count": 11,
   "metadata": {},
   "outputs": [
    {
     "data": {
      "text/plain": [
       "array([[-0.8592875 ,  0.02066851,  1.5023022 ],\n",
       "       [-0.8592875 ,  0.02066851,  0.88861656],\n",
       "       [-1.4650567 ,  0.02066851,  0.88861656],\n",
       "       [-1.4650567 ,  0.02066851,  1.5023022 ],\n",
       "       [-0.8592875 , -0.78500426,  1.5023022 ],\n",
       "       [-0.8592875 , -0.78500426,  0.88861656],\n",
       "       [-1.4650567 , -0.78500426,  0.88861656],\n",
       "       [-1.4650567 , -0.78500426,  1.5023022 ]], dtype=float32)"
      ]
     },
     "execution_count": 11,
     "metadata": {},
     "output_type": "execute_result"
    }
   ],
   "source": [
    "ret_['gt_box_corners'][0]"
   ]
  },
  {
   "cell_type": "code",
   "execution_count": 12,
   "metadata": {},
   "outputs": [
    {
     "name": "stdout",
     "output_type": "stream",
     "text": [
      "[0.60576916 0.6136856  0.80567276] [0.58833444 0.56270206 0.8087513 ]\n"
     ]
    }
   ],
   "source": [
    "print(ret_[\"gt_box_sizes\"][0], ret_[\"gt_box_sizes\"][3])"
   ]
  },
  {
   "cell_type": "code",
   "execution_count": 13,
   "metadata": {},
   "outputs": [
    {
     "name": "stdout",
     "output_type": "stream",
     "text": [
      "[-1.1621721   1.1954594   0.38216788] [-1.186063    1.2155542   0.38341352]\n"
     ]
    }
   ],
   "source": [
    "print(ret_['gt_box_centers'][0], ret_['gt_box_centers'][3])"
   ]
  },
  {
   "cell_type": "code",
   "execution_count": 14,
   "metadata": {},
   "outputs": [
    {
     "data": {
      "text/plain": [
       "array([[-1.1621721 ,  1.1954594 ,  0.38216788],\n",
       "       [-0.61803335,  1.1308498 ,  0.37228405],\n",
       "       [-1.9426975 , -1.9208283 ,  0.75705326],\n",
       "       [-1.186063  ,  1.2155542 ,  0.38341352],\n",
       "       [-0.6139527 ,  1.1537116 ,  0.3657139 ],\n",
       "       [-0.98562723,  0.8166231 ,  0.36130112],\n",
       "       [-0.17595395,  0.8889181 ,  0.12251968],\n",
       "       [-1.9546169 , -1.9767238 ,  0.78684646],\n",
       "       [-1.9477317 ,  0.12342585,  0.8205961 ],\n",
       "       [-1.853877  ,  1.8101771 ,  0.84211075],\n",
       "       [-1.6708556 ,  3.3483129 ,  0.3447251 ],\n",
       "       [ 0.        ,  0.        ,  0.        ],\n",
       "       [ 0.        ,  0.        ,  0.        ],\n",
       "       [ 0.        ,  0.        ,  0.        ],\n",
       "       [ 0.        ,  0.        ,  0.        ],\n",
       "       [ 0.        ,  0.        ,  0.        ],\n",
       "       [ 0.        ,  0.        ,  0.        ],\n",
       "       [ 0.        ,  0.        ,  0.        ],\n",
       "       [ 0.        ,  0.        ,  0.        ],\n",
       "       [ 0.        ,  0.        ,  0.        ],\n",
       "       [ 0.        ,  0.        ,  0.        ],\n",
       "       [ 0.        ,  0.        ,  0.        ],\n",
       "       [ 0.        ,  0.        ,  0.        ],\n",
       "       [ 0.        ,  0.        ,  0.        ],\n",
       "       [ 0.        ,  0.        ,  0.        ],\n",
       "       [ 0.        ,  0.        ,  0.        ],\n",
       "       [ 0.        ,  0.        ,  0.        ],\n",
       "       [ 0.        ,  0.        ,  0.        ],\n",
       "       [ 0.        ,  0.        ,  0.        ],\n",
       "       [ 0.        ,  0.        ,  0.        ],\n",
       "       [ 0.        ,  0.        ,  0.        ],\n",
       "       [ 0.        ,  0.        ,  0.        ],\n",
       "       [ 0.        ,  0.        ,  0.        ],\n",
       "       [ 0.        ,  0.        ,  0.        ],\n",
       "       [ 0.        ,  0.        ,  0.        ],\n",
       "       [ 0.        ,  0.        ,  0.        ],\n",
       "       [ 0.        ,  0.        ,  0.        ],\n",
       "       [ 0.        ,  0.        ,  0.        ],\n",
       "       [ 0.        ,  0.        ,  0.        ],\n",
       "       [ 0.        ,  0.        ,  0.        ],\n",
       "       [ 0.        ,  0.        ,  0.        ],\n",
       "       [ 0.        ,  0.        ,  0.        ],\n",
       "       [ 0.        ,  0.        ,  0.        ],\n",
       "       [ 0.        ,  0.        ,  0.        ],\n",
       "       [ 0.        ,  0.        ,  0.        ],\n",
       "       [ 0.        ,  0.        ,  0.        ],\n",
       "       [ 0.        ,  0.        ,  0.        ],\n",
       "       [ 0.        ,  0.        ,  0.        ],\n",
       "       [ 0.        ,  0.        ,  0.        ],\n",
       "       [ 0.        ,  0.        ,  0.        ],\n",
       "       [ 0.        ,  0.        ,  0.        ],\n",
       "       [ 0.        ,  0.        ,  0.        ],\n",
       "       [ 0.        ,  0.        ,  0.        ],\n",
       "       [ 0.        ,  0.        ,  0.        ],\n",
       "       [ 0.        ,  0.        ,  0.        ],\n",
       "       [ 0.        ,  0.        ,  0.        ],\n",
       "       [ 0.        ,  0.        ,  0.        ],\n",
       "       [ 0.        ,  0.        ,  0.        ],\n",
       "       [ 0.        ,  0.        ,  0.        ],\n",
       "       [ 0.        ,  0.        ,  0.        ],\n",
       "       [ 0.        ,  0.        ,  0.        ],\n",
       "       [ 0.        ,  0.        ,  0.        ],\n",
       "       [ 0.        ,  0.        ,  0.        ],\n",
       "       [ 0.        ,  0.        ,  0.        ]], dtype=float32)"
      ]
     },
     "execution_count": 14,
     "metadata": {},
     "output_type": "execute_result"
    }
   ],
   "source": [
    "ret_['gt_box_centers']"
   ]
  },
  {
   "cell_type": "code",
   "execution_count": 15,
   "metadata": {},
   "outputs": [
    {
     "name": "stdout",
     "output_type": "stream",
     "text": [
      "[-0.61803335  1.1308498   0.37228405] [-0.6139527  1.1537116  0.3657139]\n"
     ]
    }
   ],
   "source": [
    "print(ret_['gt_box_centers'][1], ret_['gt_box_centers'][4])"
   ]
  },
  {
   "cell_type": "code",
   "execution_count": null,
   "metadata": {},
   "outputs": [],
   "source": [
    "print(ret_['gt_box_centers'][2], ret_['gt_box_centers'][7])"
   ]
  },
  {
   "cell_type": "code",
   "execution_count": null,
   "metadata": {},
   "outputs": [],
   "source": [
    "print(ret_['gt_box_centers'][1], ret_['gt_box_centers'][2])"
   ]
  },
  {
   "cell_type": "code",
   "execution_count": null,
   "metadata": {},
   "outputs": [],
   "source": [
    "ret_2 = datasets['train'][20]"
   ]
  },
  {
   "cell_type": "code",
   "execution_count": null,
   "metadata": {},
   "outputs": [],
   "source": [
    "print(ret_2['gt_box_sem_cls_label'], ret_2['num_pseudo_label'])"
   ]
  },
  {
   "cell_type": "code",
   "execution_count": null,
   "metadata": {},
   "outputs": [],
   "source": [
    "print(ret_2['gt_box_centers'][0], ret_2['gt_box_centers'][4])"
   ]
  },
  {
   "cell_type": "code",
   "execution_count": null,
   "metadata": {},
   "outputs": [],
   "source": [
    "print(ret_2['gt_box_centers'][1], ret_2['gt_box_centers'][6])"
   ]
  },
  {
   "cell_type": "code",
   "execution_count": null,
   "metadata": {},
   "outputs": [],
   "source": [
    "print(ret_2['gt_box_centers'][2], ret_2['gt_box_centers'][8])"
   ]
  },
  {
   "cell_type": "code",
   "execution_count": null,
   "metadata": {},
   "outputs": [],
   "source": [
    "print(ret_2['gt_box_centers'][3], ret_2['gt_box_centers'][8])"
   ]
  },
  {
   "cell_type": "code",
   "execution_count": null,
   "metadata": {},
   "outputs": [],
   "source": [
    "datasets['train'].augment"
   ]
  },
  {
   "cell_type": "code",
   "execution_count": null,
   "metadata": {},
   "outputs": [],
   "source": [
    "ret_train = datasets['train'][2]"
   ]
  },
  {
   "cell_type": "code",
   "execution_count": null,
   "metadata": {},
   "outputs": [],
   "source": [
    "ret_train.keys()"
   ]
  },
  {
   "cell_type": "code",
   "execution_count": null,
   "metadata": {},
   "outputs": [],
   "source": []
  },
  {
   "cell_type": "code",
   "execution_count": null,
   "metadata": {},
   "outputs": [],
   "source": [
    "ret_train['gt_box_sem_cls_label']"
   ]
  },
  {
   "cell_type": "code",
   "execution_count": null,
   "metadata": {},
   "outputs": [],
   "source": [
    "ret_['gt_box_corners'].shape"
   ]
  },
  {
   "cell_type": "code",
   "execution_count": null,
   "metadata": {},
   "outputs": [],
   "source": [
    "[converted_instance_bbox[-1] for converted_instance_bbox in converted_instance_bboxes]"
   ]
  },
  {
   "cell_type": "code",
   "execution_count": null,
   "metadata": {},
   "outputs": [],
   "source": [
    "target_bboxes_semcls[0: len(converted_instance_bboxes)\n",
    "                        ] = [converted_instance_bbox[-1] for converted_instance_bbox in converted_instance_bboxes]"
   ]
  },
  {
   "cell_type": "code",
   "execution_count": null,
   "metadata": {},
   "outputs": [],
   "source": [
    "target_bboxes_semcls"
   ]
  },
  {
   "cell_type": "code",
   "execution_count": null,
   "metadata": {},
   "outputs": [],
   "source": [
    "# rtarget_bboxes_mask.shape # (64,)\n",
    "box_centers_normalized.shape # (67, 3)"
   ]
  },
  {
   "cell_type": "code",
   "execution_count": null,
   "metadata": {},
   "outputs": [],
   "source": [
    "# instance_bboxes[0] is an np array of shape (7, ).\n",
    "# The first 6 elements are the box coordinates, the last element is the class label.\n",
    "# The box coordinates mean (x, y, z, dx, dy, dz), where (x, y, z) is the center of the box, and (dx, dy, dz) is the size of the box.\n",
    "# pseudo_labels[0] is a list of length 3. The first element is the class index.\n",
    "# The second element is an array of (8, 3), which is the x,y,z coordinates of 8 corners of the bounding box.\n",
    "# The third element is the probality of the class.\n",
    "# Convert the pseudo labels to the format of instance_bboxes\n",
    "def pseudo_label_to_instance_bbox(pseudo_label):\n",
    "    # pseudo_label is a list of length 3. The first element is the class index.\n",
    "    # The second element is an array of (8, 3), which is the x,y,z coordinates of 8 corners of the bounding box.\n",
    "    # The third element is the probality of the class.\n",
    "    instance_bbox = np.zeros((7, ))\n",
    "    instance_bbox[0:3] = pseudo_label[1].mean(axis=0)\n",
    "    instance_bbox[3:6] = pseudo_label[1].max(axis=0) - pseudo_label[1].min(axis=0)\n",
    "    instance_bbox[6] = pseudo_label[0]\n",
    "    return instance_bbox\n",
    "\n",
    "# Convert the pseudo labels to the format of instance_bboxes\n",
    "converted_instance_bboxes = []\n",
    "for pseudo_label in pseudo_labels[0]:\n",
    "    converted_instance_bboxes.append(pseudo_label_to_instance_bbox(pseudo_label))\n",
    "\n",
    "print('converted_instance_bboxes', converted_instance_bboxes)\n",
    "# pseudo_labels[0][0][1].shape"
   ]
  },
  {
   "cell_type": "code",
   "execution_count": null,
   "metadata": {},
   "outputs": [],
   "source": [
    "converted_instance_bboxes_no_cls = [converted_instance_bbox[0:6] for converted_instance_bbox in converted_instance_bboxes]\n",
    "converted_instance_bboxes_no_cls"
   ]
  },
  {
   "cell_type": "code",
   "execution_count": null,
   "metadata": {},
   "outputs": [],
   "source": [
    "# instance_bboxes.shape\n",
    "# concat converted_instance_bboxes and instance_bboxes\n",
    "instance_bboxes = np.concatenate((converted_instance_bboxes, instance_bboxes), axis=0)\n",
    "print('instance_bboxes', instance_bboxes)"
   ]
  },
  {
   "cell_type": "code",
   "execution_count": null,
   "metadata": {},
   "outputs": [],
   "source": [
    "instance_bboxes.shape"
   ]
  },
  {
   "cell_type": "code",
   "execution_count": null,
   "metadata": {},
   "outputs": [],
   "source": [
    "pseudo_labels[0][0]"
   ]
  },
  {
   "cell_type": "code",
   "execution_count": null,
   "metadata": {},
   "outputs": [],
   "source": [
    "pseudo_labels[0][0][1].mean(axis=0)"
   ]
  },
  {
   "cell_type": "code",
   "execution_count": null,
   "metadata": {},
   "outputs": [],
   "source": [
    "# get an ap array of size (3,), where each value is the difference between max and min of pseudo_labels[0][0][1] in the first dimension\n",
    "pseudo_labels[0][0][1].max(axis=0) - pseudo_labels[0][0][1].min(axis=0)"
   ]
  },
  {
   "cell_type": "code",
   "execution_count": null,
   "metadata": {},
   "outputs": [],
   "source": [
    "instance_bboxes\n",
    "\n",
    "# an instance box is an array like array([1.98960567, 0.49231637, 0.89994586, 0.31689119, 0.87098539, 1.00589061, 9.        ])\n",
    "# the first 6 elements are the box coordinates, the last element is the class label.\n",
    "# the box coordinates mean (x, y, z, dx, dy, dz), where (x, y, z) is the center of the box, and (dx, dy, dz) is the size of the box.\n"
   ]
  },
  {
   "cell_type": "code",
   "execution_count": null,
   "metadata": {},
   "outputs": [],
   "source": [
    "temp"
   ]
  },
  {
   "cell_type": "code",
   "execution_count": null,
   "metadata": {},
   "outputs": [],
   "source": [
    "# temp_input_unsqueezed is a detached copy of temp_input['point_clouds'] with an extra dimension\n",
    "# temp_input_unsqueezed = temp_input['point_clouds'].clone().detach().unsqueeze_(0)\n",
    "# temp_input_unsqueezed = temp_input['point_clouds'].unsqueeze_(0)"
   ]
  },
  {
   "cell_type": "code",
   "execution_count": null,
   "metadata": {},
   "outputs": [],
   "source": [
    "instance_bboxes"
   ]
  },
  {
   "cell_type": "code",
   "execution_count": null,
   "metadata": {},
   "outputs": [],
   "source": []
  },
  {
   "cell_type": "code",
   "execution_count": null,
   "metadata": {},
   "outputs": [],
   "source": [
    "# len(temp_input)\n",
    "pseudo_labels"
   ]
  },
  {
   "cell_type": "code",
   "execution_count": null,
   "metadata": {},
   "outputs": [],
   "source": [
    "for i in temp_input[0]:\n",
    "    print(i[1].shape)"
   ]
  },
  {
   "cell_type": "code",
   "execution_count": null,
   "metadata": {},
   "outputs": [],
   "source": [
    "datasets['train']"
   ]
  },
  {
   "cell_type": "code",
   "execution_count": null,
   "metadata": {},
   "outputs": [],
   "source": [
    "temp_input"
   ]
  },
  {
   "cell_type": "code",
   "execution_count": null,
   "metadata": {},
   "outputs": [],
   "source": [
    "temp['outputs'].keys() \n",
    "# dict_keys(['sem_cls_logits', 'center_normalized', 'center_unnormalized', 'size_normalized', 'size_unnormalized', 'angle_logits', 'angle_residual', 'angle_residual_normalized', 'angle_continuous', 'objectness_prob', 'sem_cls_prob', 'box_corners'])\n",
    "\n",
    "# aux_outputs\n",
    "# temp['aux_outputs'][2]"
   ]
  },
  {
   "cell_type": "code",
   "execution_count": null,
   "metadata": {},
   "outputs": [],
   "source": [
    "temp['outputs']"
   ]
  },
  {
   "cell_type": "code",
   "execution_count": null,
   "metadata": {},
   "outputs": [],
   "source": [
    "# ap_calculator.step_SDCoT(\n",
    "#     predicted_box_corners=temp['outputs']['box_corners'],\n",
    "#     sem_cls_probs = temp['outputs']['sem_cls_prob'],\n",
    "#     objectness_probs = temp['outputs']['objectness_prob'],\n",
    "#     point_cloud = temp_input['point_clouds'],\n",
    "# )\n",
    "\n",
    "\n"
   ]
  },
  {
   "cell_type": "code",
   "execution_count": null,
   "metadata": {},
   "outputs": [],
   "source": [
    "len(parsed_predictions[0][0]) # 1x85"
   ]
  },
  {
   "cell_type": "code",
   "execution_count": null,
   "metadata": {},
   "outputs": [],
   "source": [
    "for i in range (len(parsed_predictions[0])):\n",
    "    prob = parsed_predictions[0][i][-1]\n",
    "    print(parsed_predictions[0][i][0], parsed_predictions[0][i][-1])\n",
    "\n",
    "# In SDCoT, the thresholds are set to 0.95 (objectness score) and 0.9 (classification prob)\n",
    "# 4 0.90740836\n",
    "# 9 0.9623784\n",
    "# 15 0.9973775"
   ]
  },
  {
   "cell_type": "code",
   "execution_count": null,
   "metadata": {},
   "outputs": [],
   "source": [
    "temp['outputs']['objectness_prob'].shape"
   ]
  },
  {
   "cell_type": "code",
   "execution_count": null,
   "metadata": {},
   "outputs": [],
   "source": [
    "x = datasets['train'][0]"
   ]
  },
  {
   "cell_type": "code",
   "execution_count": null,
   "metadata": {},
   "outputs": [],
   "source": [
    "x[\"gt_box_corners\"].shape # prepend and remove last few"
   ]
  },
  {
   "cell_type": "code",
   "execution_count": null,
   "metadata": {},
   "outputs": [],
   "source": [
    "parsed_predictions[0][0][1].shape"
   ]
  },
  {
   "cell_type": "code",
   "execution_count": null,
   "metadata": {},
   "outputs": [],
   "source": []
  }
 ],
 "metadata": {
  "kernelspec": {
   "display_name": "venv",
   "language": "python",
   "name": "python3"
  },
  "language_info": {
   "codemirror_mode": {
    "name": "ipython",
    "version": 3
   },
   "file_extension": ".py",
   "mimetype": "text/x-python",
   "name": "python",
   "nbconvert_exporter": "python",
   "pygments_lexer": "ipython3",
   "version": "3.8.10"
  },
  "orig_nbformat": 4
 },
 "nbformat": 4,
 "nbformat_minor": 2
}
