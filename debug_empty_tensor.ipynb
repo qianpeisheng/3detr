{
 "cells": [
  {
   "cell_type": "code",
   "execution_count": 1,
   "metadata": {},
   "outputs": [],
   "source": [
    "import torch"
   ]
  },
  {
   "cell_type": "code",
   "execution_count": 2,
   "metadata": {},
   "outputs": [],
   "source": [
    "assignments = []\n",
    "# populate the assignments list 4 lists of 2 random integers tensors each, each with shape [5] and within range [0, 10)\n",
    "for i in range(4):\n",
    "    assignments.append([torch.randint(0, 10, (5,)) for j in range(2)])\n",
    "\n"
   ]
  },
  {
   "cell_type": "code",
   "execution_count": 3,
   "metadata": {},
   "outputs": [],
   "source": [
    "# change assignments[1] to a list of 2 empty tensors\n",
    "assignments[1] = []"
   ]
  },
  {
   "cell_type": "code",
   "execution_count": 4,
   "metadata": {},
   "outputs": [
    {
     "ename": "IndexError",
     "evalue": "list index out of range",
     "output_type": "error",
     "traceback": [
      "\u001b[0;31m---------------------------------------------------------------------------\u001b[0m",
      "\u001b[0;31mIndexError\u001b[0m                                Traceback (most recent call last)",
      "\u001b[1;32m/home1/peisheng/3detr/debug_empty_tensor.ipynb Cell 4\u001b[0m line \u001b[0;36m1\n\u001b[0;32m----> <a href='vscode-notebook-cell://ssh-remote%2Bdigitmon/home1/peisheng/3detr/debug_empty_tensor.ipynb#W3sdnNjb2RlLXJlbW90ZQ%3D%3D?line=0'>1</a>\u001b[0m assignments[\u001b[39m1\u001b[39;49m][\u001b[39m0\u001b[39;49m]\n",
      "\u001b[0;31mIndexError\u001b[0m: list index out of range"
     ]
    }
   ],
   "source": [
    "assignments[1][0]"
   ]
  },
  {
   "cell_type": "code",
   "execution_count": 5,
   "metadata": {},
   "outputs": [
    {
     "data": {
      "text/plain": [
       "[[tensor([8, 5, 6, 5, 0]), tensor([3, 4, 7, 7, 2])],\n",
       " [],\n",
       " [tensor([0, 4, 1, 9, 0]), tensor([6, 0, 0, 8, 2])],\n",
       " [tensor([3, 9, 0, 0, 6]), tensor([1, 6, 3, 6, 9])]]"
      ]
     },
     "execution_count": 5,
     "metadata": {},
     "output_type": "execute_result"
    }
   ],
   "source": [
    "assignments"
   ]
  },
  {
   "cell_type": "code",
   "execution_count": 6,
   "metadata": {},
   "outputs": [],
   "source": [
    "ema_assignments = []\n",
    "# populate the assignments list 4 lists of 2 random integers tensors each, each with shape [5] and within range [0, 10)\n",
    "for i in range(4):\n",
    "    ema_assignments.append([torch.randint(20, 30, (5,)) for j in range(2)])"
   ]
  },
  {
   "cell_type": "code",
   "execution_count": 7,
   "metadata": {},
   "outputs": [],
   "source": [
    "ema_assignments[2] = []"
   ]
  },
  {
   "cell_type": "code",
   "execution_count": 8,
   "metadata": {},
   "outputs": [
    {
     "data": {
      "text/plain": [
       "[[tensor([26, 23, 22, 21, 20]), tensor([24, 27, 29, 20, 22])],\n",
       " [tensor([21, 25, 21, 27, 27]), tensor([28, 23, 21, 20, 27])],\n",
       " [],\n",
       " [tensor([27, 27, 20, 26, 23]), tensor([20, 23, 26, 25, 21])]]"
      ]
     },
     "execution_count": 8,
     "metadata": {},
     "output_type": "execute_result"
    }
   ],
   "source": [
    "ema_assignments"
   ]
  },
  {
   "cell_type": "code",
   "execution_count": 9,
   "metadata": {},
   "outputs": [],
   "source": [
    "indices = [(i, inner[0], ema_inner[0]) for i, (inner, ema_inner) in enumerate(zip(\n",
    "    assignments, ema_assignments)) if inner and ema_inner]"
   ]
  },
  {
   "cell_type": "code",
   "execution_count": 10,
   "metadata": {},
   "outputs": [
    {
     "data": {
      "text/plain": [
       "[(0, tensor([8, 5, 6, 5, 0]), tensor([26, 23, 22, 21, 20])),\n",
       " (3, tensor([3, 9, 0, 0, 6]), tensor([27, 27, 20, 26, 23]))]"
      ]
     },
     "execution_count": 10,
     "metadata": {},
     "output_type": "execute_result"
    }
   ],
   "source": [
    "indices"
   ]
  },
  {
   "cell_type": "code",
   "execution_count": 12,
   "metadata": {},
   "outputs": [],
   "source": [
    "\n",
    "# indices = [(i, assignments[i][0], assignments[i][0]) for i in range(len(assignments))]\n",
    "indices = [(i, inner[0], inner[1]) for i, inner in enumerate(assignments) if inner]\n",
    "# indices"
   ]
  },
  {
   "cell_type": "code",
   "execution_count": 13,
   "metadata": {},
   "outputs": [
    {
     "data": {
      "text/plain": [
       "[(0, tensor([3, 1, 6, 1, 3]), tensor([6, 6, 8, 1, 8])),\n",
       " (2, tensor([0, 6, 3, 2, 4]), tensor([2, 3, 2, 3, 4])),\n",
       " (3, tensor([6, 5, 5, 4, 0]), tensor([5, 1, 4, 8, 3]))]"
      ]
     },
     "execution_count": 13,
     "metadata": {},
     "output_type": "execute_result"
    }
   ],
   "source": [
    "indices"
   ]
  },
  {
   "cell_type": "code",
   "execution_count": 15,
   "metadata": {},
   "outputs": [
    {
     "data": {
      "text/plain": [
       "True"
      ]
     },
     "execution_count": 15,
     "metadata": {},
     "output_type": "execute_result"
    }
   ],
   "source": [
    "a  = True\n",
    "b = True\n",
    "a and b"
   ]
  },
  {
   "cell_type": "code",
   "execution_count": null,
   "metadata": {},
   "outputs": [],
   "source": []
  }
 ],
 "metadata": {
  "kernelspec": {
   "display_name": "venv",
   "language": "python",
   "name": "python3"
  },
  "language_info": {
   "codemirror_mode": {
    "name": "ipython",
    "version": 3
   },
   "file_extension": ".py",
   "mimetype": "text/x-python",
   "name": "python",
   "nbconvert_exporter": "python",
   "pygments_lexer": "ipython3",
   "version": "3.8.10"
  }
 },
 "nbformat": 4,
 "nbformat_minor": 2
}
