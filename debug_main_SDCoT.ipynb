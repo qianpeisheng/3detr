{
 "cells": [
  {
   "cell_type": "code",
   "execution_count": 1,
   "metadata": {},
   "outputs": [],
   "source": [
    "import argparse\n",
    "import os\n",
    "import sys\n",
    "import pickle\n",
    "\n",
    "import numpy as np\n",
    "import torch\n",
    "from torch.multiprocessing import set_start_method\n",
    "from torch.utils.data import DataLoader, DistributedSampler\n",
    "\n",
    "# 3DETR codebase specific imports\n",
    "from datasets import build_dataset_SDCoT\n",
    "from engine import evaluate, train_one_epoch, evaluate_incremental\n",
    "from models import build_model\n",
    "from optimizer import build_optimizer\n",
    "from criterion import build_criterion\n",
    "from utils.dist import init_distributed, is_distributed, is_primary, get_rank, barrier\n",
    "from utils.misc import my_worker_init_fn\n",
    "from utils.io import save_checkpoint, resume_if_possible, resume_if_possible_SDCoT\n",
    "from utils.logger import Logger\n",
    "from utils.ap_calculator import APCalculator, get_ap_config_dict, parse_predictions_SDCoT, get_ap_config_dict"
   ]
  },
  {
   "cell_type": "code",
   "execution_count": 2,
   "metadata": {},
   "outputs": [],
   "source": [
    "class TempArgs:\n",
    "    def __init__(self) -> None:\n",
    "        self.dataset_name = 'scannet'\n",
    "        self.num_base_class = 17\n",
    "        self.num_novel_class = 1\n",
    "        self.dataset_root_dir = None\n",
    "        self.meta_data_dir = None\n",
    "        self.use_color = False\n",
    "        self.seed = 42\n",
    "        self.checkpoint_dir = 'ckpts_scannet/scannet_SDCoT_17'\n",
    "        self.checkpoint_name = 'checkpoint_best_6270.pth'\n",
    "        self.enc_dim = 256\n",
    "        self.dec_dim = 512\n",
    "        self.nqueries = 256\n",
    "        self.mlp_dropout = 0.3\n",
    "        self.model_name = '3detr'\n",
    "        self.preenc_npoints = 2048\n",
    "        self.enc_type = 'vanilla'\n",
    "        self.enc_nhead = 4\n",
    "        self.enc_ffn_dim = 128\n",
    "        self.enc_dropout = 0.1\n",
    "        self.enc_activation = 'relu'\n",
    "        self.enc_nlayers = 3\n",
    "\n",
    "        # define for the decoder\n",
    "        self.dec_nhead = 4\n",
    "        self.dec_ffn_dim = 256\n",
    "        self.dec_dropout = 0.1\n",
    "        self.dec_nlayers = 8\n",
    "        self.dec_dim = 256\n",
    "\n",
    "\n",
    "        \n",
    "_args = TempArgs()"
   ]
  },
  {
   "cell_type": "code",
   "execution_count": 3,
   "metadata": {},
   "outputs": [
    {
     "name": "stdout",
     "output_type": "stream",
     "text": [
      "kept 1199 scans out of 1201\n",
      "kept 312 scans out of 312\n",
      "last_checkpoint ckpts_scannet/scannet_SDCoT_17/checkpoint_best_6270.pth\n",
      "resuming ............\n",
      "Found checkpoint at 700. Resuming.\n",
      "optimizer is None\n",
      "Loaded model and optimizer state at 700. Loaded best val metrics so far.\n"
     ]
    }
   ],
   "source": [
    "        # init_distributed(\n",
    "        #     local_rank,\n",
    "        #     global_rank=local_rank,\n",
    "        #     world_size=args.ngpus,\n",
    "        #     dist_url=args.dist_url,\n",
    "        #     dist_backend=\"nccl\",\n",
    "        # )\n",
    "\n",
    "torch.cuda.set_device(0)\n",
    "np.random.seed(42)\n",
    "torch.manual_seed(42)\n",
    "if torch.cuda.is_available():\n",
    "    torch.cuda.manual_seed_all(42)\n",
    "\n",
    "# For incremental learning, the train and test dataset are different,\n",
    "# The train dataset only contains NOVEL classes.\n",
    "# The test dataset contains both base and novel classes.\n",
    "datasets, dataset_config_train, dataset_config_val, dataset_config_base = build_dataset_SDCoT(_args)\n",
    "\n",
    "ap_calculator = APCalculator(dataset_config=dataset_config_val,\n",
    "        ap_iou_thresh=[0.25, 0.5],\n",
    "        class2type_map=dataset_config_val.class2type,\n",
    "        exact_eval=True)\n",
    "\n",
    "# define the base detection model and load weights\n",
    "base_detection_model, _ = build_model(_args, dataset_config_base)\n",
    "base_detection_model = base_detection_model.cuda(0) # TODO add ddp\n",
    "resume_if_possible(\n",
    "    checkpoint_dir=_args.checkpoint_dir, model_no_ddp=base_detection_model, optimizer=None, checkpoint_name=_args.checkpoint_name\n",
    ")\n",
    "\n",
    "# For the train set, set the base detector\n",
    "datasets['train'].set_base_detector(base_detection_model)\n",
    "ap_config_dict = get_ap_config_dict(\n",
    "    dataset_config=dataset_config_train, remove_empty_box=True\n",
    ")\n",
    "# set set_ap_config_dict\n",
    "datasets['train'].set_ap_config_dict(ap_config_dict)\n",
    "# pseudo_labels, instance_bboxes = datasets['train'][0]\n",
    "# ret_ = datasets['train'][0]\n",
    "# temp_input = datasets['train'][0]\n",
    "\n",
    "# temp_input['point_clouds'] = torch.tensor(temp_input['point_clouds']).cuda(0)\n",
    "# parsed_prediction = datasets['train'].generate_pseudo_labels(temp_input['point_clouds'], temp_input['point_cloud_dims_min'], temp_input['point_cloud_dims_max'])"
   ]
  },
  {
   "cell_type": "code",
   "execution_count": 5,
   "metadata": {},
   "outputs": [
    {
     "ename": "AttributeError",
     "evalue": "'ScannetDatasetConfig_base' object has no attribute 'nyu40ids_novel'",
     "output_type": "error",
     "traceback": [
      "\u001b[0;31m---------------------------------------------------------------------------\u001b[0m",
      "\u001b[0;31mAttributeError\u001b[0m                            Traceback (most recent call last)",
      "\u001b[1;32m/home1/peisheng/3detr/debug_main_SDCoT.ipynb Cell 4\u001b[0m line \u001b[0;36m1\n\u001b[0;32m----> <a href='vscode-notebook-cell://ssh-remote%2Bdigitmon/home1/peisheng/3detr/debug_main_SDCoT.ipynb#X50sdnNjb2RlLXJlbW90ZQ%3D%3D?line=0'>1</a>\u001b[0m datasets[\u001b[39m'\u001b[39;49m\u001b[39mtest\u001b[39;49m\u001b[39m'\u001b[39;49m][\u001b[39m0\u001b[39;49m]\n",
      "File \u001b[0;32m/home1/peisheng/3detr/datasets/scannet_SDCoT.py:357\u001b[0m, in \u001b[0;36mScannetDetectionDataset_SDCoT.__getitem__\u001b[0;34m(self, idx)\u001b[0m\n\u001b[1;32m    353\u001b[0m instance_bboxes \u001b[39m=\u001b[39m np\u001b[39m.\u001b[39mload(os\u001b[39m.\u001b[39mpath\u001b[39m.\u001b[39mjoin(\n\u001b[1;32m    354\u001b[0m     \u001b[39mself\u001b[39m\u001b[39m.\u001b[39mdata_path, scan_name) \u001b[39m+\u001b[39m \u001b[39m\"\u001b[39m\u001b[39m_bbox.npy\u001b[39m\u001b[39m\"\u001b[39m)\n\u001b[1;32m    355\u001b[0m \u001b[39m# Filter instance_bboxes and keep only those with classes that are in the dataset_config\u001b[39;00m\n\u001b[1;32m    356\u001b[0m instance_bboxes \u001b[39m=\u001b[39m instance_bboxes[\n\u001b[0;32m--> 357\u001b[0m     np\u001b[39m.\u001b[39misin(instance_bboxes[:, \u001b[39m-\u001b[39m\u001b[39m1\u001b[39m], \u001b[39mself\u001b[39;49m\u001b[39m.\u001b[39;49mdataset_config\u001b[39m.\u001b[39;49mnyu40ids_novel)\n\u001b[1;32m    358\u001b[0m ]\n\u001b[1;32m    360\u001b[0m \u001b[39mif\u001b[39;00m \u001b[39mnot\u001b[39;00m \u001b[39mself\u001b[39m\u001b[39m.\u001b[39muse_color:\n\u001b[1;32m    361\u001b[0m     point_cloud \u001b[39m=\u001b[39m mesh_vertices[:, \u001b[39m0\u001b[39m:\u001b[39m3\u001b[39m]  \u001b[39m# do not use color for now\u001b[39;00m\n",
      "\u001b[0;31mAttributeError\u001b[0m: 'ScannetDatasetConfig_base' object has no attribute 'nyu40ids_novel'"
     ]
    }
   ],
   "source": [
    "datasets['test'][0]"
   ]
  },
  {
   "cell_type": "code",
   "execution_count": 7,
   "metadata": {},
   "outputs": [
    {
     "data": {
      "text/plain": [
       "(64, 8, 3)"
      ]
     },
     "execution_count": 7,
     "metadata": {},
     "output_type": "execute_result"
    }
   ],
   "source": [
    "ret_['gt_box_corners'].shape"
   ]
  },
  {
   "cell_type": "code",
   "execution_count": null,
   "metadata": {},
   "outputs": [],
   "source": [
    "[converted_instance_bbox[-1] for converted_instance_bbox in converted_instance_bboxes]"
   ]
  },
  {
   "cell_type": "code",
   "execution_count": null,
   "metadata": {},
   "outputs": [],
   "source": [
    "target_bboxes_semcls[0: len(converted_instance_bboxes)\n",
    "                        ] = [converted_instance_bbox[-1] for converted_instance_bbox in converted_instance_bboxes]"
   ]
  },
  {
   "cell_type": "code",
   "execution_count": null,
   "metadata": {},
   "outputs": [],
   "source": [
    "target_bboxes_semcls"
   ]
  },
  {
   "cell_type": "code",
   "execution_count": null,
   "metadata": {},
   "outputs": [],
   "source": [
    "# rtarget_bboxes_mask.shape # (64,)\n",
    "box_centers_normalized.shape # (67, 3)"
   ]
  },
  {
   "cell_type": "code",
   "execution_count": null,
   "metadata": {},
   "outputs": [],
   "source": [
    "# instance_bboxes[0] is an np array of shape (7, ).\n",
    "# The first 6 elements are the box coordinates, the last element is the class label.\n",
    "# The box coordinates mean (x, y, z, dx, dy, dz), where (x, y, z) is the center of the box, and (dx, dy, dz) is the size of the box.\n",
    "# pseudo_labels[0] is a list of length 3. The first element is the class index.\n",
    "# The second element is an array of (8, 3), which is the x,y,z coordinates of 8 corners of the bounding box.\n",
    "# The third element is the probality of the class.\n",
    "# Convert the pseudo labels to the format of instance_bboxes\n",
    "def pseudo_label_to_instance_bbox(pseudo_label):\n",
    "    # pseudo_label is a list of length 3. The first element is the class index.\n",
    "    # The second element is an array of (8, 3), which is the x,y,z coordinates of 8 corners of the bounding box.\n",
    "    # The third element is the probality of the class.\n",
    "    instance_bbox = np.zeros((7, ))\n",
    "    instance_bbox[0:3] = pseudo_label[1].mean(axis=0)\n",
    "    instance_bbox[3:6] = pseudo_label[1].max(axis=0) - pseudo_label[1].min(axis=0)\n",
    "    instance_bbox[6] = pseudo_label[0]\n",
    "    return instance_bbox\n",
    "\n",
    "# Convert the pseudo labels to the format of instance_bboxes\n",
    "converted_instance_bboxes = []\n",
    "for pseudo_label in pseudo_labels[0]:\n",
    "    converted_instance_bboxes.append(pseudo_label_to_instance_bbox(pseudo_label))\n",
    "\n",
    "print('converted_instance_bboxes', converted_instance_bboxes)\n",
    "# pseudo_labels[0][0][1].shape"
   ]
  },
  {
   "cell_type": "code",
   "execution_count": null,
   "metadata": {},
   "outputs": [],
   "source": [
    "converted_instance_bboxes_no_cls = [converted_instance_bbox[0:6] for converted_instance_bbox in converted_instance_bboxes]\n",
    "converted_instance_bboxes_no_cls"
   ]
  },
  {
   "cell_type": "code",
   "execution_count": null,
   "metadata": {},
   "outputs": [],
   "source": [
    "# instance_bboxes.shape\n",
    "# concat converted_instance_bboxes and instance_bboxes\n",
    "instance_bboxes = np.concatenate((converted_instance_bboxes, instance_bboxes), axis=0)\n",
    "print('instance_bboxes', instance_bboxes)"
   ]
  },
  {
   "cell_type": "code",
   "execution_count": null,
   "metadata": {},
   "outputs": [],
   "source": [
    "instance_bboxes.shape"
   ]
  },
  {
   "cell_type": "code",
   "execution_count": null,
   "metadata": {},
   "outputs": [],
   "source": [
    "pseudo_labels[0][0]"
   ]
  },
  {
   "cell_type": "code",
   "execution_count": null,
   "metadata": {},
   "outputs": [],
   "source": [
    "pseudo_labels[0][0][1].mean(axis=0)"
   ]
  },
  {
   "cell_type": "code",
   "execution_count": null,
   "metadata": {},
   "outputs": [],
   "source": [
    "# get an ap array of size (3,), where each value is the difference between max and min of pseudo_labels[0][0][1] in the first dimension\n",
    "pseudo_labels[0][0][1].max(axis=0) - pseudo_labels[0][0][1].min(axis=0)"
   ]
  },
  {
   "cell_type": "code",
   "execution_count": null,
   "metadata": {},
   "outputs": [],
   "source": [
    "instance_bboxes\n",
    "\n",
    "# an instance box is an array like array([1.98960567, 0.49231637, 0.89994586, 0.31689119, 0.87098539, 1.00589061, 9.        ])\n",
    "# the first 6 elements are the box coordinates, the last element is the class label.\n",
    "# the box coordinates mean (x, y, z, dx, dy, dz), where (x, y, z) is the center of the box, and (dx, dy, dz) is the size of the box.\n"
   ]
  },
  {
   "cell_type": "code",
   "execution_count": null,
   "metadata": {},
   "outputs": [],
   "source": [
    "temp"
   ]
  },
  {
   "cell_type": "code",
   "execution_count": null,
   "metadata": {},
   "outputs": [],
   "source": [
    "# temp_input_unsqueezed is a detached copy of temp_input['point_clouds'] with an extra dimension\n",
    "# temp_input_unsqueezed = temp_input['point_clouds'].clone().detach().unsqueeze_(0)\n",
    "# temp_input_unsqueezed = temp_input['point_clouds'].unsqueeze_(0)"
   ]
  },
  {
   "cell_type": "code",
   "execution_count": null,
   "metadata": {},
   "outputs": [],
   "source": [
    "instance_bboxes"
   ]
  },
  {
   "cell_type": "code",
   "execution_count": null,
   "metadata": {},
   "outputs": [],
   "source": []
  },
  {
   "cell_type": "code",
   "execution_count": null,
   "metadata": {},
   "outputs": [],
   "source": [
    "# len(temp_input)\n",
    "pseudo_labels"
   ]
  },
  {
   "cell_type": "code",
   "execution_count": null,
   "metadata": {},
   "outputs": [],
   "source": [
    "for i in temp_input[0]:\n",
    "    print(i[1].shape)"
   ]
  },
  {
   "cell_type": "code",
   "execution_count": null,
   "metadata": {},
   "outputs": [],
   "source": [
    "datasets['train']"
   ]
  },
  {
   "cell_type": "code",
   "execution_count": null,
   "metadata": {},
   "outputs": [],
   "source": [
    "temp_input"
   ]
  },
  {
   "cell_type": "code",
   "execution_count": null,
   "metadata": {},
   "outputs": [],
   "source": [
    "temp['outputs'].keys() \n",
    "# dict_keys(['sem_cls_logits', 'center_normalized', 'center_unnormalized', 'size_normalized', 'size_unnormalized', 'angle_logits', 'angle_residual', 'angle_residual_normalized', 'angle_continuous', 'objectness_prob', 'sem_cls_prob', 'box_corners'])\n",
    "\n",
    "# aux_outputs\n",
    "# temp['aux_outputs'][2]"
   ]
  },
  {
   "cell_type": "code",
   "execution_count": null,
   "metadata": {},
   "outputs": [],
   "source": [
    "temp['outputs']"
   ]
  },
  {
   "cell_type": "code",
   "execution_count": null,
   "metadata": {},
   "outputs": [],
   "source": [
    "# ap_calculator.step_SDCoT(\n",
    "#     predicted_box_corners=temp['outputs']['box_corners'],\n",
    "#     sem_cls_probs = temp['outputs']['sem_cls_prob'],\n",
    "#     objectness_probs = temp['outputs']['objectness_prob'],\n",
    "#     point_cloud = temp_input['point_clouds'],\n",
    "# )\n",
    "\n",
    "\n"
   ]
  },
  {
   "cell_type": "code",
   "execution_count": null,
   "metadata": {},
   "outputs": [],
   "source": [
    "len(parsed_predictions[0][0]) # 1x85"
   ]
  },
  {
   "cell_type": "code",
   "execution_count": null,
   "metadata": {},
   "outputs": [],
   "source": [
    "for i in range (len(parsed_predictions[0])):\n",
    "    prob = parsed_predictions[0][i][-1]\n",
    "    print(parsed_predictions[0][i][0], parsed_predictions[0][i][-1])\n",
    "\n",
    "# In SDCoT, the thresholds are set to 0.95 (objectness score) and 0.9 (classification prob)\n",
    "# 4 0.90740836\n",
    "# 9 0.9623784\n",
    "# 15 0.9973775"
   ]
  },
  {
   "cell_type": "code",
   "execution_count": null,
   "metadata": {},
   "outputs": [],
   "source": [
    "temp['outputs']['objectness_prob'].shape"
   ]
  },
  {
   "cell_type": "code",
   "execution_count": null,
   "metadata": {},
   "outputs": [],
   "source": [
    "x = datasets['train'][0]"
   ]
  },
  {
   "cell_type": "code",
   "execution_count": null,
   "metadata": {},
   "outputs": [],
   "source": [
    "x[\"gt_box_corners\"].shape # prepend and remove last few"
   ]
  },
  {
   "cell_type": "code",
   "execution_count": null,
   "metadata": {},
   "outputs": [],
   "source": [
    "parsed_predictions[0][0][1].shape"
   ]
  },
  {
   "cell_type": "code",
   "execution_count": null,
   "metadata": {},
   "outputs": [],
   "source": []
  }
 ],
 "metadata": {
  "kernelspec": {
   "display_name": "venv",
   "language": "python",
   "name": "python3"
  },
  "language_info": {
   "codemirror_mode": {
    "name": "ipython",
    "version": 3
   },
   "file_extension": ".py",
   "mimetype": "text/x-python",
   "name": "python",
   "nbconvert_exporter": "python",
   "pygments_lexer": "ipython3",
   "version": "3.8.10"
  },
  "orig_nbformat": 4
 },
 "nbformat": 4,
 "nbformat_minor": 2
}
